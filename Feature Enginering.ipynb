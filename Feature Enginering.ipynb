{
 "cells": [
  {
   "cell_type": "markdown",
   "id": "e6da0688",
   "metadata": {},
   "source": [
    "# Creating Columns using Dataframes"
   ]
  },
  {
   "cell_type": "markdown",
   "id": "2fe53323",
   "metadata": {},
   "source": [
    "1. Dataframes are used when we have multiple columns or features whereas Series is used when we have only one column"
   ]
  },
  {
   "cell_type": "markdown",
   "id": "d1833154",
   "metadata": {},
   "source": [
    "Task 1: Creating sample Dataframe"
   ]
  },
  {
   "cell_type": "code",
   "execution_count": 1,
   "id": "5024712c",
   "metadata": {},
   "outputs": [],
   "source": [
    "import pandas as pd"
   ]
  },
  {
   "cell_type": "code",
   "execution_count": 11,
   "id": "a8847c0b",
   "metadata": {},
   "outputs": [],
   "source": [
    "Names=['ram','shyam','vineeta','sita']\n",
    "science_marks=[34,45,56,89]\n",
    "\n"
   ]
  },
  {
   "cell_type": "code",
   "execution_count": 12,
   "id": "1fd1a649",
   "metadata": {},
   "outputs": [],
   "source": [
    "df= pd.DataFrame({'Names': Names, 'science_marks': science_marks})"
   ]
  },
  {
   "cell_type": "code",
   "execution_count": 13,
   "id": "413d8830",
   "metadata": {},
   "outputs": [
    {
     "data": {
      "text/html": [
       "<div>\n",
       "<style scoped>\n",
       "    .dataframe tbody tr th:only-of-type {\n",
       "        vertical-align: middle;\n",
       "    }\n",
       "\n",
       "    .dataframe tbody tr th {\n",
       "        vertical-align: top;\n",
       "    }\n",
       "\n",
       "    .dataframe thead th {\n",
       "        text-align: right;\n",
       "    }\n",
       "</style>\n",
       "<table border=\"1\" class=\"dataframe\">\n",
       "  <thead>\n",
       "    <tr style=\"text-align: right;\">\n",
       "      <th></th>\n",
       "      <th>Names</th>\n",
       "      <th>science_marks</th>\n",
       "    </tr>\n",
       "  </thead>\n",
       "  <tbody>\n",
       "    <tr>\n",
       "      <th>0</th>\n",
       "      <td>ram</td>\n",
       "      <td>34</td>\n",
       "    </tr>\n",
       "    <tr>\n",
       "      <th>1</th>\n",
       "      <td>shyam</td>\n",
       "      <td>45</td>\n",
       "    </tr>\n",
       "    <tr>\n",
       "      <th>2</th>\n",
       "      <td>vineeta</td>\n",
       "      <td>56</td>\n",
       "    </tr>\n",
       "    <tr>\n",
       "      <th>3</th>\n",
       "      <td>sita</td>\n",
       "      <td>89</td>\n",
       "    </tr>\n",
       "  </tbody>\n",
       "</table>\n",
       "</div>"
      ],
      "text/plain": [
       "     Names  science_marks\n",
       "0      ram             34\n",
       "1    shyam             45\n",
       "2  vineeta             56\n",
       "3     sita             89"
      ]
     },
     "execution_count": 13,
     "metadata": {},
     "output_type": "execute_result"
    }
   ],
   "source": [
    "df"
   ]
  },
  {
   "cell_type": "markdown",
   "id": "18296916",
   "metadata": {},
   "source": [
    "Adding new columns for marks in maths subject"
   ]
  },
  {
   "cell_type": "code",
   "execution_count": 14,
   "id": "f44207c7",
   "metadata": {},
   "outputs": [
    {
     "data": {
      "text/html": [
       "<div>\n",
       "<style scoped>\n",
       "    .dataframe tbody tr th:only-of-type {\n",
       "        vertical-align: middle;\n",
       "    }\n",
       "\n",
       "    .dataframe tbody tr th {\n",
       "        vertical-align: top;\n",
       "    }\n",
       "\n",
       "    .dataframe thead th {\n",
       "        text-align: right;\n",
       "    }\n",
       "</style>\n",
       "<table border=\"1\" class=\"dataframe\">\n",
       "  <thead>\n",
       "    <tr style=\"text-align: right;\">\n",
       "      <th></th>\n",
       "      <th>Names</th>\n",
       "      <th>science_marks</th>\n",
       "      <th>Maths_marks</th>\n",
       "    </tr>\n",
       "  </thead>\n",
       "  <tbody>\n",
       "    <tr>\n",
       "      <th>0</th>\n",
       "      <td>ram</td>\n",
       "      <td>34</td>\n",
       "      <td>42</td>\n",
       "    </tr>\n",
       "    <tr>\n",
       "      <th>1</th>\n",
       "      <td>shyam</td>\n",
       "      <td>45</td>\n",
       "      <td>41</td>\n",
       "    </tr>\n",
       "    <tr>\n",
       "      <th>2</th>\n",
       "      <td>vineeta</td>\n",
       "      <td>56</td>\n",
       "      <td>40</td>\n",
       "    </tr>\n",
       "    <tr>\n",
       "      <th>3</th>\n",
       "      <td>sita</td>\n",
       "      <td>89</td>\n",
       "      <td>30</td>\n",
       "    </tr>\n",
       "  </tbody>\n",
       "</table>\n",
       "</div>"
      ],
      "text/plain": [
       "     Names  science_marks  Maths_marks\n",
       "0      ram             34           42\n",
       "1    shyam             45           41\n",
       "2  vineeta             56           40\n",
       "3     sita             89           30"
      ]
     },
     "execution_count": 14,
     "metadata": {},
     "output_type": "execute_result"
    }
   ],
   "source": [
    "df['Maths_marks']=[42,41,40,30]\n",
    "df"
   ]
  },
  {
   "cell_type": "markdown",
   "id": "fb4f77c0",
   "metadata": {},
   "source": [
    "Now, add same marks for social for all students "
   ]
  },
  {
   "cell_type": "code",
   "execution_count": 17,
   "id": "e802c481",
   "metadata": {},
   "outputs": [
    {
     "data": {
      "text/html": [
       "<div>\n",
       "<style scoped>\n",
       "    .dataframe tbody tr th:only-of-type {\n",
       "        vertical-align: middle;\n",
       "    }\n",
       "\n",
       "    .dataframe tbody tr th {\n",
       "        vertical-align: top;\n",
       "    }\n",
       "\n",
       "    .dataframe thead th {\n",
       "        text-align: right;\n",
       "    }\n",
       "</style>\n",
       "<table border=\"1\" class=\"dataframe\">\n",
       "  <thead>\n",
       "    <tr style=\"text-align: right;\">\n",
       "      <th></th>\n",
       "      <th>Names</th>\n",
       "      <th>science_marks</th>\n",
       "      <th>Maths_marks</th>\n",
       "      <th>social_marks</th>\n",
       "    </tr>\n",
       "  </thead>\n",
       "  <tbody>\n",
       "    <tr>\n",
       "      <th>0</th>\n",
       "      <td>ram</td>\n",
       "      <td>34</td>\n",
       "      <td>42</td>\n",
       "      <td>35</td>\n",
       "    </tr>\n",
       "    <tr>\n",
       "      <th>1</th>\n",
       "      <td>shyam</td>\n",
       "      <td>45</td>\n",
       "      <td>41</td>\n",
       "      <td>35</td>\n",
       "    </tr>\n",
       "    <tr>\n",
       "      <th>2</th>\n",
       "      <td>vineeta</td>\n",
       "      <td>56</td>\n",
       "      <td>40</td>\n",
       "      <td>35</td>\n",
       "    </tr>\n",
       "    <tr>\n",
       "      <th>3</th>\n",
       "      <td>sita</td>\n",
       "      <td>89</td>\n",
       "      <td>30</td>\n",
       "      <td>35</td>\n",
       "    </tr>\n",
       "  </tbody>\n",
       "</table>\n",
       "</div>"
      ],
      "text/plain": [
       "     Names  science_marks  Maths_marks  social_marks\n",
       "0      ram             34           42            35\n",
       "1    shyam             45           41            35\n",
       "2  vineeta             56           40            35\n",
       "3     sita             89           30            35"
      ]
     },
     "execution_count": 17,
     "metadata": {},
     "output_type": "execute_result"
    }
   ],
   "source": [
    "df['social_marks']= 35\n",
    "df"
   ]
  },
  {
   "cell_type": "markdown",
   "id": "ce27f753",
   "metadata": {},
   "source": [
    "# Python Pandas : DropNa"
   ]
  },
  {
   "cell_type": "markdown",
   "id": "2117f21e",
   "metadata": {},
   "source": [
    "Dropna() : function is used to drop any missing values from row or column from dataframe"
   ]
  },
  {
   "cell_type": "code",
   "execution_count": 1,
   "id": "6b36aa5f",
   "metadata": {},
   "outputs": [],
   "source": [
    "import pandas as pd\n",
    "import numpy as np"
   ]
  },
  {
   "cell_type": "markdown",
   "id": "202ac1c7",
   "metadata": {},
   "source": [
    "now creating sample dataframe"
   ]
  },
  {
   "cell_type": "code",
   "execution_count": 2,
   "id": "ca6ea0d9",
   "metadata": {},
   "outputs": [],
   "source": [
    "temprature1 = [19,23,34,38,np.nan,np.nan]\n",
    "temprature2 = [25,40,20,np.nan, 45,np.nan]"
   ]
  },
  {
   "cell_type": "code",
   "execution_count": 6,
   "id": "b537198d",
   "metadata": {},
   "outputs": [],
   "source": [
    "#here np.nan means null vlaues"
   ]
  },
  {
   "cell_type": "code",
   "execution_count": 4,
   "id": "37bcdac1",
   "metadata": {},
   "outputs": [],
   "source": [
    "temp= pd.DataFrame({'Mumbai':temprature1,'Pune':temprature2 })"
   ]
  },
  {
   "cell_type": "code",
   "execution_count": 5,
   "id": "7e6ca664",
   "metadata": {},
   "outputs": [
    {
     "data": {
      "text/html": [
       "<div>\n",
       "<style scoped>\n",
       "    .dataframe tbody tr th:only-of-type {\n",
       "        vertical-align: middle;\n",
       "    }\n",
       "\n",
       "    .dataframe tbody tr th {\n",
       "        vertical-align: top;\n",
       "    }\n",
       "\n",
       "    .dataframe thead th {\n",
       "        text-align: right;\n",
       "    }\n",
       "</style>\n",
       "<table border=\"1\" class=\"dataframe\">\n",
       "  <thead>\n",
       "    <tr style=\"text-align: right;\">\n",
       "      <th></th>\n",
       "      <th>Mumbai</th>\n",
       "      <th>Pune</th>\n",
       "    </tr>\n",
       "  </thead>\n",
       "  <tbody>\n",
       "    <tr>\n",
       "      <th>0</th>\n",
       "      <td>19.0</td>\n",
       "      <td>25.0</td>\n",
       "    </tr>\n",
       "    <tr>\n",
       "      <th>1</th>\n",
       "      <td>23.0</td>\n",
       "      <td>40.0</td>\n",
       "    </tr>\n",
       "    <tr>\n",
       "      <th>2</th>\n",
       "      <td>34.0</td>\n",
       "      <td>20.0</td>\n",
       "    </tr>\n",
       "    <tr>\n",
       "      <th>3</th>\n",
       "      <td>38.0</td>\n",
       "      <td>NaN</td>\n",
       "    </tr>\n",
       "    <tr>\n",
       "      <th>4</th>\n",
       "      <td>NaN</td>\n",
       "      <td>45.0</td>\n",
       "    </tr>\n",
       "    <tr>\n",
       "      <th>5</th>\n",
       "      <td>NaN</td>\n",
       "      <td>NaN</td>\n",
       "    </tr>\n",
       "  </tbody>\n",
       "</table>\n",
       "</div>"
      ],
      "text/plain": [
       "   Mumbai  Pune\n",
       "0    19.0  25.0\n",
       "1    23.0  40.0\n",
       "2    34.0  20.0\n",
       "3    38.0   NaN\n",
       "4     NaN  45.0\n",
       "5     NaN   NaN"
      ]
     },
     "execution_count": 5,
     "metadata": {},
     "output_type": "execute_result"
    }
   ],
   "source": [
    "temp"
   ]
  },
  {
   "cell_type": "markdown",
   "id": "9984679e",
   "metadata": {},
   "source": [
    "change index names to week names"
   ]
  },
  {
   "cell_type": "code",
   "execution_count": 10,
   "id": "08289310",
   "metadata": {},
   "outputs": [
    {
     "data": {
      "text/html": [
       "<div>\n",
       "<style scoped>\n",
       "    .dataframe tbody tr th:only-of-type {\n",
       "        vertical-align: middle;\n",
       "    }\n",
       "\n",
       "    .dataframe tbody tr th {\n",
       "        vertical-align: top;\n",
       "    }\n",
       "\n",
       "    .dataframe thead th {\n",
       "        text-align: right;\n",
       "    }\n",
       "</style>\n",
       "<table border=\"1\" class=\"dataframe\">\n",
       "  <thead>\n",
       "    <tr style=\"text-align: right;\">\n",
       "      <th></th>\n",
       "      <th>Mumbai</th>\n",
       "      <th>Pune</th>\n",
       "    </tr>\n",
       "  </thead>\n",
       "  <tbody>\n",
       "    <tr>\n",
       "      <th>Mon</th>\n",
       "      <td>19.0</td>\n",
       "      <td>25.0</td>\n",
       "    </tr>\n",
       "    <tr>\n",
       "      <th>tue</th>\n",
       "      <td>23.0</td>\n",
       "      <td>40.0</td>\n",
       "    </tr>\n",
       "    <tr>\n",
       "      <th>Wed</th>\n",
       "      <td>34.0</td>\n",
       "      <td>20.0</td>\n",
       "    </tr>\n",
       "    <tr>\n",
       "      <th>Thurs</th>\n",
       "      <td>38.0</td>\n",
       "      <td>NaN</td>\n",
       "    </tr>\n",
       "    <tr>\n",
       "      <th>Fri</th>\n",
       "      <td>NaN</td>\n",
       "      <td>45.0</td>\n",
       "    </tr>\n",
       "    <tr>\n",
       "      <th>Sat</th>\n",
       "      <td>NaN</td>\n",
       "      <td>NaN</td>\n",
       "    </tr>\n",
       "  </tbody>\n",
       "</table>\n",
       "</div>"
      ],
      "text/plain": [
       "       Mumbai  Pune\n",
       "Mon      19.0  25.0\n",
       "tue      23.0  40.0\n",
       "Wed      34.0  20.0\n",
       "Thurs    38.0   NaN\n",
       "Fri       NaN  45.0\n",
       "Sat       NaN   NaN"
      ]
     },
     "execution_count": 10,
     "metadata": {},
     "output_type": "execute_result"
    }
   ],
   "source": [
    "temp.index=['Mon','tue','Wed','Thurs','Fri','Sat']\n",
    "temp"
   ]
  },
  {
   "cell_type": "markdown",
   "id": "f898c2df",
   "metadata": {},
   "source": [
    "# Task 1: dropping all rows null values"
   ]
  },
  {
   "cell_type": "code",
   "execution_count": 11,
   "id": "7687d0d4",
   "metadata": {},
   "outputs": [
    {
     "data": {
      "text/html": [
       "<div>\n",
       "<style scoped>\n",
       "    .dataframe tbody tr th:only-of-type {\n",
       "        vertical-align: middle;\n",
       "    }\n",
       "\n",
       "    .dataframe tbody tr th {\n",
       "        vertical-align: top;\n",
       "    }\n",
       "\n",
       "    .dataframe thead th {\n",
       "        text-align: right;\n",
       "    }\n",
       "</style>\n",
       "<table border=\"1\" class=\"dataframe\">\n",
       "  <thead>\n",
       "    <tr style=\"text-align: right;\">\n",
       "      <th></th>\n",
       "      <th>Mumbai</th>\n",
       "      <th>Pune</th>\n",
       "    </tr>\n",
       "  </thead>\n",
       "  <tbody>\n",
       "    <tr>\n",
       "      <th>Mon</th>\n",
       "      <td>19.0</td>\n",
       "      <td>25.0</td>\n",
       "    </tr>\n",
       "    <tr>\n",
       "      <th>tue</th>\n",
       "      <td>23.0</td>\n",
       "      <td>40.0</td>\n",
       "    </tr>\n",
       "    <tr>\n",
       "      <th>Wed</th>\n",
       "      <td>34.0</td>\n",
       "      <td>20.0</td>\n",
       "    </tr>\n",
       "  </tbody>\n",
       "</table>\n",
       "</div>"
      ],
      "text/plain": [
       "     Mumbai  Pune\n",
       "Mon    19.0  25.0\n",
       "tue    23.0  40.0\n",
       "Wed    34.0  20.0"
      ]
     },
     "execution_count": 11,
     "metadata": {},
     "output_type": "execute_result"
    }
   ],
   "source": [
    "temp.dropna(axis= 'rows')"
   ]
  },
  {
   "cell_type": "markdown",
   "id": "65758dd6",
   "metadata": {},
   "source": [
    "# Task 2: dropping all columns with null values"
   ]
  },
  {
   "cell_type": "code",
   "execution_count": 13,
   "id": "e659d788",
   "metadata": {},
   "outputs": [
    {
     "data": {
      "text/html": [
       "<div>\n",
       "<style scoped>\n",
       "    .dataframe tbody tr th:only-of-type {\n",
       "        vertical-align: middle;\n",
       "    }\n",
       "\n",
       "    .dataframe tbody tr th {\n",
       "        vertical-align: top;\n",
       "    }\n",
       "\n",
       "    .dataframe thead th {\n",
       "        text-align: right;\n",
       "    }\n",
       "</style>\n",
       "<table border=\"1\" class=\"dataframe\">\n",
       "  <thead>\n",
       "    <tr style=\"text-align: right;\">\n",
       "      <th></th>\n",
       "    </tr>\n",
       "  </thead>\n",
       "  <tbody>\n",
       "    <tr>\n",
       "      <th>Mon</th>\n",
       "    </tr>\n",
       "    <tr>\n",
       "      <th>tue</th>\n",
       "    </tr>\n",
       "    <tr>\n",
       "      <th>Wed</th>\n",
       "    </tr>\n",
       "    <tr>\n",
       "      <th>Thurs</th>\n",
       "    </tr>\n",
       "    <tr>\n",
       "      <th>Fri</th>\n",
       "    </tr>\n",
       "    <tr>\n",
       "      <th>Sat</th>\n",
       "    </tr>\n",
       "  </tbody>\n",
       "</table>\n",
       "</div>"
      ],
      "text/plain": [
       "Empty DataFrame\n",
       "Columns: []\n",
       "Index: [Mon, tue, Wed, Thurs, Fri, Sat]"
      ]
     },
     "execution_count": 13,
     "metadata": {},
     "output_type": "execute_result"
    }
   ],
   "source": [
    "temp.dropna(axis= 'columns')"
   ]
  },
  {
   "cell_type": "markdown",
   "id": "6ea5705c",
   "metadata": {},
   "source": [
    "here we can see no column is seen as output becoz all the columns have null values"
   ]
  },
  {
   "cell_type": "markdown",
   "id": "82f2d40d",
   "metadata": {},
   "source": [
    "# Task 2: dropping all rows with everythig as null values\n"
   ]
  },
  {
   "cell_type": "code",
   "execution_count": 14,
   "id": "b05a7269",
   "metadata": {},
   "outputs": [
    {
     "data": {
      "text/html": [
       "<div>\n",
       "<style scoped>\n",
       "    .dataframe tbody tr th:only-of-type {\n",
       "        vertical-align: middle;\n",
       "    }\n",
       "\n",
       "    .dataframe tbody tr th {\n",
       "        vertical-align: top;\n",
       "    }\n",
       "\n",
       "    .dataframe thead th {\n",
       "        text-align: right;\n",
       "    }\n",
       "</style>\n",
       "<table border=\"1\" class=\"dataframe\">\n",
       "  <thead>\n",
       "    <tr style=\"text-align: right;\">\n",
       "      <th></th>\n",
       "      <th>Mumbai</th>\n",
       "      <th>Pune</th>\n",
       "    </tr>\n",
       "  </thead>\n",
       "  <tbody>\n",
       "    <tr>\n",
       "      <th>Mon</th>\n",
       "      <td>19.0</td>\n",
       "      <td>25.0</td>\n",
       "    </tr>\n",
       "    <tr>\n",
       "      <th>tue</th>\n",
       "      <td>23.0</td>\n",
       "      <td>40.0</td>\n",
       "    </tr>\n",
       "    <tr>\n",
       "      <th>Wed</th>\n",
       "      <td>34.0</td>\n",
       "      <td>20.0</td>\n",
       "    </tr>\n",
       "    <tr>\n",
       "      <th>Thurs</th>\n",
       "      <td>38.0</td>\n",
       "      <td>NaN</td>\n",
       "    </tr>\n",
       "    <tr>\n",
       "      <th>Fri</th>\n",
       "      <td>NaN</td>\n",
       "      <td>45.0</td>\n",
       "    </tr>\n",
       "  </tbody>\n",
       "</table>\n",
       "</div>"
      ],
      "text/plain": [
       "       Mumbai  Pune\n",
       "Mon      19.0  25.0\n",
       "tue      23.0  40.0\n",
       "Wed      34.0  20.0\n",
       "Thurs    38.0   NaN\n",
       "Fri       NaN  45.0"
      ]
     },
     "execution_count": 14,
     "metadata": {},
     "output_type": "execute_result"
    }
   ],
   "source": [
    "temp.dropna(how= 'all')"
   ]
  },
  {
   "cell_type": "markdown",
   "id": "de7900e5",
   "metadata": {},
   "source": [
    "# threshold based removing "
   ]
  },
  {
   "cell_type": "code",
   "execution_count": 15,
   "id": "6af9a51b",
   "metadata": {},
   "outputs": [
    {
     "data": {
      "text/html": [
       "<div>\n",
       "<style scoped>\n",
       "    .dataframe tbody tr th:only-of-type {\n",
       "        vertical-align: middle;\n",
       "    }\n",
       "\n",
       "    .dataframe tbody tr th {\n",
       "        vertical-align: top;\n",
       "    }\n",
       "\n",
       "    .dataframe thead th {\n",
       "        text-align: right;\n",
       "    }\n",
       "</style>\n",
       "<table border=\"1\" class=\"dataframe\">\n",
       "  <thead>\n",
       "    <tr style=\"text-align: right;\">\n",
       "      <th></th>\n",
       "      <th>Mumbai</th>\n",
       "      <th>Pune</th>\n",
       "    </tr>\n",
       "  </thead>\n",
       "  <tbody>\n",
       "    <tr>\n",
       "      <th>Mon</th>\n",
       "      <td>19.0</td>\n",
       "      <td>25.0</td>\n",
       "    </tr>\n",
       "    <tr>\n",
       "      <th>tue</th>\n",
       "      <td>23.0</td>\n",
       "      <td>40.0</td>\n",
       "    </tr>\n",
       "    <tr>\n",
       "      <th>Wed</th>\n",
       "      <td>34.0</td>\n",
       "      <td>20.0</td>\n",
       "    </tr>\n",
       "    <tr>\n",
       "      <th>Thurs</th>\n",
       "      <td>38.0</td>\n",
       "      <td>NaN</td>\n",
       "    </tr>\n",
       "    <tr>\n",
       "      <th>Fri</th>\n",
       "      <td>NaN</td>\n",
       "      <td>45.0</td>\n",
       "    </tr>\n",
       "  </tbody>\n",
       "</table>\n",
       "</div>"
      ],
      "text/plain": [
       "       Mumbai  Pune\n",
       "Mon      19.0  25.0\n",
       "tue      23.0  40.0\n",
       "Wed      34.0  20.0\n",
       "Thurs    38.0   NaN\n",
       "Fri       NaN  45.0"
      ]
     },
     "execution_count": 15,
     "metadata": {},
     "output_type": "execute_result"
    }
   ],
   "source": [
    "temp.dropna(thresh= 1)"
   ]
  },
  {
   "cell_type": "code",
   "execution_count": 16,
   "id": "0a12b940",
   "metadata": {},
   "outputs": [],
   "source": [
    "#here sat is removed becoz it does not satisfy the criteria of atleast 1 np.nan"
   ]
  },
  {
   "cell_type": "code",
   "execution_count": 17,
   "id": "3e610951",
   "metadata": {},
   "outputs": [
    {
     "data": {
      "text/html": [
       "<div>\n",
       "<style scoped>\n",
       "    .dataframe tbody tr th:only-of-type {\n",
       "        vertical-align: middle;\n",
       "    }\n",
       "\n",
       "    .dataframe tbody tr th {\n",
       "        vertical-align: top;\n",
       "    }\n",
       "\n",
       "    .dataframe thead th {\n",
       "        text-align: right;\n",
       "    }\n",
       "</style>\n",
       "<table border=\"1\" class=\"dataframe\">\n",
       "  <thead>\n",
       "    <tr style=\"text-align: right;\">\n",
       "      <th></th>\n",
       "      <th>Mumbai</th>\n",
       "      <th>Pune</th>\n",
       "    </tr>\n",
       "  </thead>\n",
       "  <tbody>\n",
       "    <tr>\n",
       "      <th>Mon</th>\n",
       "      <td>19.0</td>\n",
       "      <td>25.0</td>\n",
       "    </tr>\n",
       "    <tr>\n",
       "      <th>tue</th>\n",
       "      <td>23.0</td>\n",
       "      <td>40.0</td>\n",
       "    </tr>\n",
       "    <tr>\n",
       "      <th>Wed</th>\n",
       "      <td>34.0</td>\n",
       "      <td>20.0</td>\n",
       "    </tr>\n",
       "  </tbody>\n",
       "</table>\n",
       "</div>"
      ],
      "text/plain": [
       "     Mumbai  Pune\n",
       "Mon    19.0  25.0\n",
       "tue    23.0  40.0\n",
       "Wed    34.0  20.0"
      ]
     },
     "execution_count": 17,
     "metadata": {},
     "output_type": "execute_result"
    }
   ],
   "source": [
    "temp.dropna(thresh= 2)"
   ]
  },
  {
   "cell_type": "markdown",
   "id": "42af5927",
   "metadata": {},
   "source": [
    "# Mean method to fillna"
   ]
  },
  {
   "cell_type": "code",
   "execution_count": 7,
   "id": "225086ac",
   "metadata": {},
   "outputs": [],
   "source": [
    "import pandas as pd\n",
    "import numpy as np"
   ]
  },
  {
   "cell_type": "markdown",
   "id": "179f1069",
   "metadata": {},
   "source": [
    "create dataframe"
   ]
  },
  {
   "cell_type": "code",
   "execution_count": 8,
   "id": "9a3fe6bc",
   "metadata": {},
   "outputs": [],
   "source": [
    "col1 = [12,43,23,np.nan, 45]\n",
    "col2 = [44,33,np.nan, 40,20]\n",
    "col3 = [15,np.nan,47,39,np.nan]\n",
    "\n",
    "df = pd.DataFrame({'maths':col1 ,'Physics':col2 , 'english':col3})"
   ]
  },
  {
   "cell_type": "code",
   "execution_count": 9,
   "id": "5d45e66f",
   "metadata": {},
   "outputs": [
    {
     "data": {
      "text/html": [
       "<div>\n",
       "<style scoped>\n",
       "    .dataframe tbody tr th:only-of-type {\n",
       "        vertical-align: middle;\n",
       "    }\n",
       "\n",
       "    .dataframe tbody tr th {\n",
       "        vertical-align: top;\n",
       "    }\n",
       "\n",
       "    .dataframe thead th {\n",
       "        text-align: right;\n",
       "    }\n",
       "</style>\n",
       "<table border=\"1\" class=\"dataframe\">\n",
       "  <thead>\n",
       "    <tr style=\"text-align: right;\">\n",
       "      <th></th>\n",
       "      <th>maths</th>\n",
       "      <th>Physics</th>\n",
       "      <th>english</th>\n",
       "    </tr>\n",
       "  </thead>\n",
       "  <tbody>\n",
       "    <tr>\n",
       "      <th>0</th>\n",
       "      <td>12.0</td>\n",
       "      <td>44.0</td>\n",
       "      <td>15.0</td>\n",
       "    </tr>\n",
       "    <tr>\n",
       "      <th>1</th>\n",
       "      <td>43.0</td>\n",
       "      <td>33.0</td>\n",
       "      <td>NaN</td>\n",
       "    </tr>\n",
       "    <tr>\n",
       "      <th>2</th>\n",
       "      <td>23.0</td>\n",
       "      <td>NaN</td>\n",
       "      <td>47.0</td>\n",
       "    </tr>\n",
       "    <tr>\n",
       "      <th>3</th>\n",
       "      <td>NaN</td>\n",
       "      <td>40.0</td>\n",
       "      <td>39.0</td>\n",
       "    </tr>\n",
       "    <tr>\n",
       "      <th>4</th>\n",
       "      <td>45.0</td>\n",
       "      <td>20.0</td>\n",
       "      <td>NaN</td>\n",
       "    </tr>\n",
       "  </tbody>\n",
       "</table>\n",
       "</div>"
      ],
      "text/plain": [
       "   maths  Physics  english\n",
       "0   12.0     44.0     15.0\n",
       "1   43.0     33.0      NaN\n",
       "2   23.0      NaN     47.0\n",
       "3    NaN     40.0     39.0\n",
       "4   45.0     20.0      NaN"
      ]
     },
     "execution_count": 9,
     "metadata": {},
     "output_type": "execute_result"
    }
   ],
   "source": [
    "df"
   ]
  },
  {
   "cell_type": "code",
   "execution_count": 10,
   "id": "f4d104b7",
   "metadata": {},
   "outputs": [],
   "source": [
    "df.index= ['ram','shyam','sita','deepa','meena']"
   ]
  },
  {
   "cell_type": "code",
   "execution_count": 11,
   "id": "671f1fdf",
   "metadata": {},
   "outputs": [
    {
     "data": {
      "text/html": [
       "<div>\n",
       "<style scoped>\n",
       "    .dataframe tbody tr th:only-of-type {\n",
       "        vertical-align: middle;\n",
       "    }\n",
       "\n",
       "    .dataframe tbody tr th {\n",
       "        vertical-align: top;\n",
       "    }\n",
       "\n",
       "    .dataframe thead th {\n",
       "        text-align: right;\n",
       "    }\n",
       "</style>\n",
       "<table border=\"1\" class=\"dataframe\">\n",
       "  <thead>\n",
       "    <tr style=\"text-align: right;\">\n",
       "      <th></th>\n",
       "      <th>maths</th>\n",
       "      <th>Physics</th>\n",
       "      <th>english</th>\n",
       "    </tr>\n",
       "  </thead>\n",
       "  <tbody>\n",
       "    <tr>\n",
       "      <th>ram</th>\n",
       "      <td>12.0</td>\n",
       "      <td>44.0</td>\n",
       "      <td>15.0</td>\n",
       "    </tr>\n",
       "    <tr>\n",
       "      <th>shyam</th>\n",
       "      <td>43.0</td>\n",
       "      <td>33.0</td>\n",
       "      <td>NaN</td>\n",
       "    </tr>\n",
       "    <tr>\n",
       "      <th>sita</th>\n",
       "      <td>23.0</td>\n",
       "      <td>NaN</td>\n",
       "      <td>47.0</td>\n",
       "    </tr>\n",
       "    <tr>\n",
       "      <th>deepa</th>\n",
       "      <td>NaN</td>\n",
       "      <td>40.0</td>\n",
       "      <td>39.0</td>\n",
       "    </tr>\n",
       "    <tr>\n",
       "      <th>meena</th>\n",
       "      <td>45.0</td>\n",
       "      <td>20.0</td>\n",
       "      <td>NaN</td>\n",
       "    </tr>\n",
       "  </tbody>\n",
       "</table>\n",
       "</div>"
      ],
      "text/plain": [
       "       maths  Physics  english\n",
       "ram     12.0     44.0     15.0\n",
       "shyam   43.0     33.0      NaN\n",
       "sita    23.0      NaN     47.0\n",
       "deepa    NaN     40.0     39.0\n",
       "meena   45.0     20.0      NaN"
      ]
     },
     "execution_count": 11,
     "metadata": {},
     "output_type": "execute_result"
    }
   ],
   "source": [
    "df"
   ]
  },
  {
   "cell_type": "markdown",
   "id": "027772a8",
   "metadata": {},
   "source": [
    "lets fill the marks of students having null values with mean of marks of other students\n"
   ]
  },
  {
   "cell_type": "markdown",
   "id": "c93f41a2",
   "metadata": {},
   "source": [
    "first lets check average score of marks in each subject"
   ]
  },
  {
   "cell_type": "code",
   "execution_count": 12,
   "id": "f633c6dc",
   "metadata": {},
   "outputs": [
    {
     "data": {
      "text/plain": [
       "maths      30.750000\n",
       "Physics    34.250000\n",
       "english    33.666667\n",
       "dtype: float64"
      ]
     },
     "execution_count": 12,
     "metadata": {},
     "output_type": "execute_result"
    }
   ],
   "source": [
    "df.mean()"
   ]
  },
  {
   "cell_type": "markdown",
   "id": "8517b754",
   "metadata": {},
   "source": [
    "parent dataframe"
   ]
  },
  {
   "cell_type": "code",
   "execution_count": 13,
   "id": "b9979361",
   "metadata": {},
   "outputs": [
    {
     "data": {
      "text/html": [
       "<div>\n",
       "<style scoped>\n",
       "    .dataframe tbody tr th:only-of-type {\n",
       "        vertical-align: middle;\n",
       "    }\n",
       "\n",
       "    .dataframe tbody tr th {\n",
       "        vertical-align: top;\n",
       "    }\n",
       "\n",
       "    .dataframe thead th {\n",
       "        text-align: right;\n",
       "    }\n",
       "</style>\n",
       "<table border=\"1\" class=\"dataframe\">\n",
       "  <thead>\n",
       "    <tr style=\"text-align: right;\">\n",
       "      <th></th>\n",
       "      <th>maths</th>\n",
       "      <th>Physics</th>\n",
       "      <th>english</th>\n",
       "    </tr>\n",
       "  </thead>\n",
       "  <tbody>\n",
       "    <tr>\n",
       "      <th>ram</th>\n",
       "      <td>12.0</td>\n",
       "      <td>44.0</td>\n",
       "      <td>15.0</td>\n",
       "    </tr>\n",
       "    <tr>\n",
       "      <th>shyam</th>\n",
       "      <td>43.0</td>\n",
       "      <td>33.0</td>\n",
       "      <td>NaN</td>\n",
       "    </tr>\n",
       "    <tr>\n",
       "      <th>sita</th>\n",
       "      <td>23.0</td>\n",
       "      <td>NaN</td>\n",
       "      <td>47.0</td>\n",
       "    </tr>\n",
       "    <tr>\n",
       "      <th>deepa</th>\n",
       "      <td>NaN</td>\n",
       "      <td>40.0</td>\n",
       "      <td>39.0</td>\n",
       "    </tr>\n",
       "    <tr>\n",
       "      <th>meena</th>\n",
       "      <td>45.0</td>\n",
       "      <td>20.0</td>\n",
       "      <td>NaN</td>\n",
       "    </tr>\n",
       "  </tbody>\n",
       "</table>\n",
       "</div>"
      ],
      "text/plain": [
       "       maths  Physics  english\n",
       "ram     12.0     44.0     15.0\n",
       "shyam   43.0     33.0      NaN\n",
       "sita    23.0      NaN     47.0\n",
       "deepa    NaN     40.0     39.0\n",
       "meena   45.0     20.0      NaN"
      ]
     },
     "execution_count": 13,
     "metadata": {},
     "output_type": "execute_result"
    }
   ],
   "source": [
    "df"
   ]
  },
  {
   "cell_type": "markdown",
   "id": "38a1af45",
   "metadata": {},
   "source": [
    "modified dataframe"
   ]
  },
  {
   "cell_type": "code",
   "execution_count": 14,
   "id": "4c4cd536",
   "metadata": {},
   "outputs": [
    {
     "data": {
      "text/html": [
       "<div>\n",
       "<style scoped>\n",
       "    .dataframe tbody tr th:only-of-type {\n",
       "        vertical-align: middle;\n",
       "    }\n",
       "\n",
       "    .dataframe tbody tr th {\n",
       "        vertical-align: top;\n",
       "    }\n",
       "\n",
       "    .dataframe thead th {\n",
       "        text-align: right;\n",
       "    }\n",
       "</style>\n",
       "<table border=\"1\" class=\"dataframe\">\n",
       "  <thead>\n",
       "    <tr style=\"text-align: right;\">\n",
       "      <th></th>\n",
       "      <th>maths</th>\n",
       "      <th>Physics</th>\n",
       "      <th>english</th>\n",
       "    </tr>\n",
       "  </thead>\n",
       "  <tbody>\n",
       "    <tr>\n",
       "      <th>ram</th>\n",
       "      <td>12.00</td>\n",
       "      <td>44.00</td>\n",
       "      <td>15.000000</td>\n",
       "    </tr>\n",
       "    <tr>\n",
       "      <th>shyam</th>\n",
       "      <td>43.00</td>\n",
       "      <td>33.00</td>\n",
       "      <td>33.666667</td>\n",
       "    </tr>\n",
       "    <tr>\n",
       "      <th>sita</th>\n",
       "      <td>23.00</td>\n",
       "      <td>34.25</td>\n",
       "      <td>47.000000</td>\n",
       "    </tr>\n",
       "    <tr>\n",
       "      <th>deepa</th>\n",
       "      <td>30.75</td>\n",
       "      <td>40.00</td>\n",
       "      <td>39.000000</td>\n",
       "    </tr>\n",
       "    <tr>\n",
       "      <th>meena</th>\n",
       "      <td>45.00</td>\n",
       "      <td>20.00</td>\n",
       "      <td>33.666667</td>\n",
       "    </tr>\n",
       "  </tbody>\n",
       "</table>\n",
       "</div>"
      ],
      "text/plain": [
       "       maths  Physics    english\n",
       "ram    12.00    44.00  15.000000\n",
       "shyam  43.00    33.00  33.666667\n",
       "sita   23.00    34.25  47.000000\n",
       "deepa  30.75    40.00  39.000000\n",
       "meena  45.00    20.00  33.666667"
      ]
     },
     "execution_count": 14,
     "metadata": {},
     "output_type": "execute_result"
    }
   ],
   "source": [
    "df.fillna(df.mean())"
   ]
  },
  {
   "cell_type": "markdown",
   "id": "2130eeef",
   "metadata": {},
   "source": [
    "# Outlier Detection and Removal Pandas"
   ]
  },
  {
   "cell_type": "code",
   "execution_count": 15,
   "id": "97e2fecc",
   "metadata": {},
   "outputs": [],
   "source": [
    "import pandas as pd\n",
    "import numpy as np"
   ]
  },
  {
   "cell_type": "code",
   "execution_count": 17,
   "id": "bc04c619",
   "metadata": {},
   "outputs": [],
   "source": [
    "import matplotlib.pyplot as plt"
   ]
  },
  {
   "cell_type": "markdown",
   "id": "0aeabe1e",
   "metadata": {},
   "source": [
    "creating dataframe"
   ]
  },
  {
   "cell_type": "markdown",
   "id": "de9d1ff4",
   "metadata": {},
   "source": [
    "1. create a list consisting of 3 values of 5, 25 values of 50 and 1 value of 100 and 1 value of 89"
   ]
  },
  {
   "cell_type": "markdown",
   "id": "43e1c1c2",
   "metadata": {},
   "source": [
    "2. here 100 and 89 are outliers and data is mostly concentrated at 50"
   ]
  },
  {
   "cell_type": "code",
   "execution_count": 19,
   "id": "5d695f48",
   "metadata": {},
   "outputs": [
    {
     "name": "stdout",
     "output_type": "stream",
     "text": [
      "[5, 5, 5, 50, 50, 50, 50, 50, 50, 50, 50, 50, 50, 50, 50, 50, 50, 50, 50, 50, 50, 50, 50, 50, 50, 50, 50, 50, 100, 89]\n"
     ]
    }
   ],
   "source": [
    "values= [5]*3 + [50] * 25 + [100] + [89]\n",
    "print(values)"
   ]
  },
  {
   "cell_type": "code",
   "execution_count": 20,
   "id": "e6fafd86",
   "metadata": {},
   "outputs": [],
   "source": [
    "df= pd.DataFrame({'values':values})"
   ]
  },
  {
   "cell_type": "code",
   "execution_count": 21,
   "id": "bcd384fb",
   "metadata": {},
   "outputs": [
    {
     "data": {
      "text/html": [
       "<div>\n",
       "<style scoped>\n",
       "    .dataframe tbody tr th:only-of-type {\n",
       "        vertical-align: middle;\n",
       "    }\n",
       "\n",
       "    .dataframe tbody tr th {\n",
       "        vertical-align: top;\n",
       "    }\n",
       "\n",
       "    .dataframe thead th {\n",
       "        text-align: right;\n",
       "    }\n",
       "</style>\n",
       "<table border=\"1\" class=\"dataframe\">\n",
       "  <thead>\n",
       "    <tr style=\"text-align: right;\">\n",
       "      <th></th>\n",
       "      <th>values</th>\n",
       "    </tr>\n",
       "  </thead>\n",
       "  <tbody>\n",
       "    <tr>\n",
       "      <th>0</th>\n",
       "      <td>5</td>\n",
       "    </tr>\n",
       "    <tr>\n",
       "      <th>1</th>\n",
       "      <td>5</td>\n",
       "    </tr>\n",
       "    <tr>\n",
       "      <th>2</th>\n",
       "      <td>5</td>\n",
       "    </tr>\n",
       "    <tr>\n",
       "      <th>3</th>\n",
       "      <td>50</td>\n",
       "    </tr>\n",
       "    <tr>\n",
       "      <th>4</th>\n",
       "      <td>50</td>\n",
       "    </tr>\n",
       "    <tr>\n",
       "      <th>5</th>\n",
       "      <td>50</td>\n",
       "    </tr>\n",
       "    <tr>\n",
       "      <th>6</th>\n",
       "      <td>50</td>\n",
       "    </tr>\n",
       "    <tr>\n",
       "      <th>7</th>\n",
       "      <td>50</td>\n",
       "    </tr>\n",
       "    <tr>\n",
       "      <th>8</th>\n",
       "      <td>50</td>\n",
       "    </tr>\n",
       "    <tr>\n",
       "      <th>9</th>\n",
       "      <td>50</td>\n",
       "    </tr>\n",
       "    <tr>\n",
       "      <th>10</th>\n",
       "      <td>50</td>\n",
       "    </tr>\n",
       "    <tr>\n",
       "      <th>11</th>\n",
       "      <td>50</td>\n",
       "    </tr>\n",
       "    <tr>\n",
       "      <th>12</th>\n",
       "      <td>50</td>\n",
       "    </tr>\n",
       "    <tr>\n",
       "      <th>13</th>\n",
       "      <td>50</td>\n",
       "    </tr>\n",
       "    <tr>\n",
       "      <th>14</th>\n",
       "      <td>50</td>\n",
       "    </tr>\n",
       "    <tr>\n",
       "      <th>15</th>\n",
       "      <td>50</td>\n",
       "    </tr>\n",
       "    <tr>\n",
       "      <th>16</th>\n",
       "      <td>50</td>\n",
       "    </tr>\n",
       "    <tr>\n",
       "      <th>17</th>\n",
       "      <td>50</td>\n",
       "    </tr>\n",
       "    <tr>\n",
       "      <th>18</th>\n",
       "      <td>50</td>\n",
       "    </tr>\n",
       "    <tr>\n",
       "      <th>19</th>\n",
       "      <td>50</td>\n",
       "    </tr>\n",
       "    <tr>\n",
       "      <th>20</th>\n",
       "      <td>50</td>\n",
       "    </tr>\n",
       "    <tr>\n",
       "      <th>21</th>\n",
       "      <td>50</td>\n",
       "    </tr>\n",
       "    <tr>\n",
       "      <th>22</th>\n",
       "      <td>50</td>\n",
       "    </tr>\n",
       "    <tr>\n",
       "      <th>23</th>\n",
       "      <td>50</td>\n",
       "    </tr>\n",
       "    <tr>\n",
       "      <th>24</th>\n",
       "      <td>50</td>\n",
       "    </tr>\n",
       "    <tr>\n",
       "      <th>25</th>\n",
       "      <td>50</td>\n",
       "    </tr>\n",
       "    <tr>\n",
       "      <th>26</th>\n",
       "      <td>50</td>\n",
       "    </tr>\n",
       "    <tr>\n",
       "      <th>27</th>\n",
       "      <td>50</td>\n",
       "    </tr>\n",
       "    <tr>\n",
       "      <th>28</th>\n",
       "      <td>100</td>\n",
       "    </tr>\n",
       "    <tr>\n",
       "      <th>29</th>\n",
       "      <td>89</td>\n",
       "    </tr>\n",
       "  </tbody>\n",
       "</table>\n",
       "</div>"
      ],
      "text/plain": [
       "    values\n",
       "0        5\n",
       "1        5\n",
       "2        5\n",
       "3       50\n",
       "4       50\n",
       "5       50\n",
       "6       50\n",
       "7       50\n",
       "8       50\n",
       "9       50\n",
       "10      50\n",
       "11      50\n",
       "12      50\n",
       "13      50\n",
       "14      50\n",
       "15      50\n",
       "16      50\n",
       "17      50\n",
       "18      50\n",
       "19      50\n",
       "20      50\n",
       "21      50\n",
       "22      50\n",
       "23      50\n",
       "24      50\n",
       "25      50\n",
       "26      50\n",
       "27      50\n",
       "28     100\n",
       "29      89"
      ]
     },
     "execution_count": 21,
     "metadata": {},
     "output_type": "execute_result"
    }
   ],
   "source": [
    "df"
   ]
  },
  {
   "cell_type": "markdown",
   "id": "abf40df6",
   "metadata": {},
   "source": [
    "Lets plot the frequency count"
   ]
  },
  {
   "cell_type": "code",
   "execution_count": 22,
   "id": "bfbac7eb",
   "metadata": {
    "scrolled": true
   },
   "outputs": [
    {
     "data": {
      "text/plain": [
       "(array([ 3.,  0.,  0.,  0., 25.,  0.,  0.,  0.,  1.,  1.]),\n",
       " array([  5. ,  14.5,  24. ,  33.5,  43. ,  52.5,  62. ,  71.5,  81. ,\n",
       "         90.5, 100. ]),\n",
       " <BarContainer object of 10 artists>)"
      ]
     },
     "execution_count": 22,
     "metadata": {},
     "output_type": "execute_result"
    },
    {
     "data": {
      "image/png": "[encoded data removed]",
      "text/plain": [
       "<Figure size 432x288 with 1 Axes>"
      ]
     },
     "metadata": {
      "needs_background": "light"
     },
     "output_type": "display_data"
    }
   ],
   "source": [
    "plt.hist(df)"
   ]
  },
  {
   "cell_type": "markdown",
   "id": "58d9e6ca",
   "metadata": {},
   "source": [
    "now, getting the 1st percentile and 0.95 percentile value from dataset"
   ]
  },
  {
   "cell_type": "code",
   "execution_count": 24,
   "id": "b5a38c18",
   "metadata": {},
   "outputs": [],
   "source": [
    "firstpercentile= int(df.quantile(0.1))"
   ]
  },
  {
   "cell_type": "code",
   "execution_count": 25,
   "id": "a654d094",
   "metadata": {},
   "outputs": [
    {
     "data": {
      "text/plain": [
       "45"
      ]
     },
     "execution_count": 25,
     "metadata": {},
     "output_type": "execute_result"
    }
   ],
   "source": [
    "firstpercentile     # Q1"
   ]
  },
  {
   "cell_type": "code",
   "execution_count": 26,
   "id": "535e0e12",
   "metadata": {},
   "outputs": [],
   "source": [
    "ninetyfivepercentile= int(df.quantile(.95))"
   ]
  },
  {
   "cell_type": "code",
   "execution_count": 27,
   "id": "1611afce",
   "metadata": {},
   "outputs": [
    {
     "data": {
      "text/plain": [
       "71"
      ]
     },
     "execution_count": 27,
     "metadata": {},
     "output_type": "execute_result"
    }
   ],
   "source": [
    "ninetyfivepercentile              # Q3"
   ]
  },
  {
   "cell_type": "markdown",
   "id": "dc276012",
   "metadata": {},
   "source": [
    "Now , lets keep the values between Q1 and Q3"
   ]
  },
  {
   "cell_type": "code",
   "execution_count": 29,
   "id": "630bdc0b",
   "metadata": {},
   "outputs": [],
   "source": [
    "condition1= df >= firstpercentile\n",
    "condition2= df <= ninetyfivepercentile\n",
    "\n",
    "new_df = df[condition1 & condition2]"
   ]
  },
  {
   "cell_type": "code",
   "execution_count": 31,
   "id": "7bb3d31f",
   "metadata": {},
   "outputs": [
    {
     "data": {
      "text/html": [
       "<div>\n",
       "<style scoped>\n",
       "    .dataframe tbody tr th:only-of-type {\n",
       "        vertical-align: middle;\n",
       "    }\n",
       "\n",
       "    .dataframe tbody tr th {\n",
       "        vertical-align: top;\n",
       "    }\n",
       "\n",
       "    .dataframe thead th {\n",
       "        text-align: right;\n",
       "    }\n",
       "</style>\n",
       "<table border=\"1\" class=\"dataframe\">\n",
       "  <thead>\n",
       "    <tr style=\"text-align: right;\">\n",
       "      <th></th>\n",
       "      <th>values</th>\n",
       "    </tr>\n",
       "  </thead>\n",
       "  <tbody>\n",
       "    <tr>\n",
       "      <th>0</th>\n",
       "      <td>NaN</td>\n",
       "    </tr>\n",
       "    <tr>\n",
       "      <th>1</th>\n",
       "      <td>NaN</td>\n",
       "    </tr>\n",
       "    <tr>\n",
       "      <th>2</th>\n",
       "      <td>NaN</td>\n",
       "    </tr>\n",
       "    <tr>\n",
       "      <th>3</th>\n",
       "      <td>50.0</td>\n",
       "    </tr>\n",
       "    <tr>\n",
       "      <th>4</th>\n",
       "      <td>50.0</td>\n",
       "    </tr>\n",
       "    <tr>\n",
       "      <th>5</th>\n",
       "      <td>50.0</td>\n",
       "    </tr>\n",
       "    <tr>\n",
       "      <th>6</th>\n",
       "      <td>50.0</td>\n",
       "    </tr>\n",
       "    <tr>\n",
       "      <th>7</th>\n",
       "      <td>50.0</td>\n",
       "    </tr>\n",
       "    <tr>\n",
       "      <th>8</th>\n",
       "      <td>50.0</td>\n",
       "    </tr>\n",
       "    <tr>\n",
       "      <th>9</th>\n",
       "      <td>50.0</td>\n",
       "    </tr>\n",
       "    <tr>\n",
       "      <th>10</th>\n",
       "      <td>50.0</td>\n",
       "    </tr>\n",
       "    <tr>\n",
       "      <th>11</th>\n",
       "      <td>50.0</td>\n",
       "    </tr>\n",
       "    <tr>\n",
       "      <th>12</th>\n",
       "      <td>50.0</td>\n",
       "    </tr>\n",
       "    <tr>\n",
       "      <th>13</th>\n",
       "      <td>50.0</td>\n",
       "    </tr>\n",
       "    <tr>\n",
       "      <th>14</th>\n",
       "      <td>50.0</td>\n",
       "    </tr>\n",
       "    <tr>\n",
       "      <th>15</th>\n",
       "      <td>50.0</td>\n",
       "    </tr>\n",
       "    <tr>\n",
       "      <th>16</th>\n",
       "      <td>50.0</td>\n",
       "    </tr>\n",
       "    <tr>\n",
       "      <th>17</th>\n",
       "      <td>50.0</td>\n",
       "    </tr>\n",
       "    <tr>\n",
       "      <th>18</th>\n",
       "      <td>50.0</td>\n",
       "    </tr>\n",
       "    <tr>\n",
       "      <th>19</th>\n",
       "      <td>50.0</td>\n",
       "    </tr>\n",
       "    <tr>\n",
       "      <th>20</th>\n",
       "      <td>50.0</td>\n",
       "    </tr>\n",
       "    <tr>\n",
       "      <th>21</th>\n",
       "      <td>50.0</td>\n",
       "    </tr>\n",
       "    <tr>\n",
       "      <th>22</th>\n",
       "      <td>50.0</td>\n",
       "    </tr>\n",
       "    <tr>\n",
       "      <th>23</th>\n",
       "      <td>50.0</td>\n",
       "    </tr>\n",
       "    <tr>\n",
       "      <th>24</th>\n",
       "      <td>50.0</td>\n",
       "    </tr>\n",
       "    <tr>\n",
       "      <th>25</th>\n",
       "      <td>50.0</td>\n",
       "    </tr>\n",
       "    <tr>\n",
       "      <th>26</th>\n",
       "      <td>50.0</td>\n",
       "    </tr>\n",
       "    <tr>\n",
       "      <th>27</th>\n",
       "      <td>50.0</td>\n",
       "    </tr>\n",
       "    <tr>\n",
       "      <th>28</th>\n",
       "      <td>NaN</td>\n",
       "    </tr>\n",
       "    <tr>\n",
       "      <th>29</th>\n",
       "      <td>NaN</td>\n",
       "    </tr>\n",
       "  </tbody>\n",
       "</table>\n",
       "</div>"
      ],
      "text/plain": [
       "    values\n",
       "0      NaN\n",
       "1      NaN\n",
       "2      NaN\n",
       "3     50.0\n",
       "4     50.0\n",
       "5     50.0\n",
       "6     50.0\n",
       "7     50.0\n",
       "8     50.0\n",
       "9     50.0\n",
       "10    50.0\n",
       "11    50.0\n",
       "12    50.0\n",
       "13    50.0\n",
       "14    50.0\n",
       "15    50.0\n",
       "16    50.0\n",
       "17    50.0\n",
       "18    50.0\n",
       "19    50.0\n",
       "20    50.0\n",
       "21    50.0\n",
       "22    50.0\n",
       "23    50.0\n",
       "24    50.0\n",
       "25    50.0\n",
       "26    50.0\n",
       "27    50.0\n",
       "28     NaN\n",
       "29     NaN"
      ]
     },
     "execution_count": 31,
     "metadata": {},
     "output_type": "execute_result"
    }
   ],
   "source": [
    "new_df"
   ]
  },
  {
   "cell_type": "raw",
   "id": "1cccca74",
   "metadata": {},
   "source": [
    "So, from above we see that outliers which are less than Q1 and greater than Q3 are removed now"
   ]
  },
  {
   "cell_type": "markdown",
   "id": "fea1c96f",
   "metadata": {},
   "source": [
    "# Pandas Binning"
   ]
  },
  {
   "cell_type": "markdown",
   "id": "df2732bc",
   "metadata": {},
   "source": [
    "Binning is when we group the values together based on the intervals"
   ]
  },
  {
   "cell_type": "code",
   "execution_count": 33,
   "id": "49e1a3fb",
   "metadata": {},
   "outputs": [],
   "source": [
    "import pandas as pd"
   ]
  },
  {
   "cell_type": "code",
   "execution_count": 52,
   "id": "8c434580",
   "metadata": {},
   "outputs": [],
   "source": [
    "student= ['niti','ram','yug','siya','shyam','divya','dhan','shreya','amit','samit']\n",
    "marks= [23, 45, 24, 36,35,49,93,48,85,67]"
   ]
  },
  {
   "cell_type": "code",
   "execution_count": 60,
   "id": "3f447cea",
   "metadata": {},
   "outputs": [],
   "source": [
    "df= pd.DataFrame({'Student': student , 'marks':marks})"
   ]
  },
  {
   "cell_type": "code",
   "execution_count": 61,
   "id": "364a89c7",
   "metadata": {},
   "outputs": [
    {
     "data": {
      "text/html": [
       "<div>\n",
       "<style scoped>\n",
       "    .dataframe tbody tr th:only-of-type {\n",
       "        vertical-align: middle;\n",
       "    }\n",
       "\n",
       "    .dataframe tbody tr th {\n",
       "        vertical-align: top;\n",
       "    }\n",
       "\n",
       "    .dataframe thead th {\n",
       "        text-align: right;\n",
       "    }\n",
       "</style>\n",
       "<table border=\"1\" class=\"dataframe\">\n",
       "  <thead>\n",
       "    <tr style=\"text-align: right;\">\n",
       "      <th></th>\n",
       "      <th>Student</th>\n",
       "      <th>marks</th>\n",
       "    </tr>\n",
       "  </thead>\n",
       "  <tbody>\n",
       "    <tr>\n",
       "      <th>0</th>\n",
       "      <td>niti</td>\n",
       "      <td>23</td>\n",
       "    </tr>\n",
       "    <tr>\n",
       "      <th>1</th>\n",
       "      <td>ram</td>\n",
       "      <td>45</td>\n",
       "    </tr>\n",
       "    <tr>\n",
       "      <th>2</th>\n",
       "      <td>yug</td>\n",
       "      <td>24</td>\n",
       "    </tr>\n",
       "    <tr>\n",
       "      <th>3</th>\n",
       "      <td>siya</td>\n",
       "      <td>36</td>\n",
       "    </tr>\n",
       "    <tr>\n",
       "      <th>4</th>\n",
       "      <td>shyam</td>\n",
       "      <td>35</td>\n",
       "    </tr>\n",
       "    <tr>\n",
       "      <th>5</th>\n",
       "      <td>divya</td>\n",
       "      <td>49</td>\n",
       "    </tr>\n",
       "    <tr>\n",
       "      <th>6</th>\n",
       "      <td>dhan</td>\n",
       "      <td>93</td>\n",
       "    </tr>\n",
       "    <tr>\n",
       "      <th>7</th>\n",
       "      <td>shreya</td>\n",
       "      <td>48</td>\n",
       "    </tr>\n",
       "    <tr>\n",
       "      <th>8</th>\n",
       "      <td>amit</td>\n",
       "      <td>85</td>\n",
       "    </tr>\n",
       "    <tr>\n",
       "      <th>9</th>\n",
       "      <td>samit</td>\n",
       "      <td>67</td>\n",
       "    </tr>\n",
       "  </tbody>\n",
       "</table>\n",
       "</div>"
      ],
      "text/plain": [
       "  Student  marks\n",
       "0    niti     23\n",
       "1     ram     45\n",
       "2     yug     24\n",
       "3    siya     36\n",
       "4   shyam     35\n",
       "5   divya     49\n",
       "6    dhan     93\n",
       "7  shreya     48\n",
       "8    amit     85\n",
       "9   samit     67"
      ]
     },
     "execution_count": 61,
     "metadata": {},
     "output_type": "execute_result"
    }
   ],
   "source": [
    "df"
   ]
  },
  {
   "cell_type": "markdown",
   "id": "1b7cdf50",
   "metadata": {},
   "source": [
    "Now, Defining Bins"
   ]
  },
  {
   "cell_type": "code",
   "execution_count": 62,
   "id": "f9645964",
   "metadata": {},
   "outputs": [],
   "source": [
    "bins =[ 0, 50, 75, 100]\n",
    "\n",
    "#naming bins\n",
    "\n",
    "groups= ['fail', 'average', 'good','brilliant']\n",
    "\n",
    "#naming groups"
   ]
  },
  {
   "cell_type": "raw",
   "id": "19ec17cb",
   "metadata": {},
   "source": [
    "create new column 'grade'"
   ]
  },
  {
   "cell_type": "code",
   "execution_count": 102,
   "id": "2ab84fd5",
   "metadata": {},
   "outputs": [],
   "source": [
    "#df['Grade'] = pd.cut(df['marks'], bins, labels= groups)"
   ]
  },
  {
   "cell_type": "code",
   "execution_count": 103,
   "id": "38b323d3",
   "metadata": {},
   "outputs": [],
   "source": [
    "#df['grade'] = pd.cut(df['marks'], bins, labels= groups)"
   ]
  },
  {
   "cell_type": "markdown",
   "id": "a14423f1",
   "metadata": {},
   "source": [
    "# Label Encoding"
   ]
  },
  {
   "cell_type": "markdown",
   "id": "0ad4993f",
   "metadata": {},
   "source": [
    "As machine learning models do not understand categorical data , we have to convert it into numerical data so that our machine learning model runs better"
   ]
  },
  {
   "cell_type": "code",
   "execution_count": 68,
   "id": "f7253d15",
   "metadata": {},
   "outputs": [],
   "source": [
    "import pandas as pd\n",
    "import numpy as np\n"
   ]
  },
  {
   "cell_type": "code",
   "execution_count": 70,
   "id": "caf636ff",
   "metadata": {},
   "outputs": [],
   "source": [
    "total_bills=[12.44,43,23,31,22,12,13.2]\n",
    "tip=[1.4,3,2,4,2.4,3.8,2.2]\n",
    "sex=['f','m','m','m','f','f','m']\n",
    "day=['sun','sun','sun','sun','sun','sun','sun']\n",
    "smoker=['y','n','y','y','n','y','n']\n",
    "size=[2,3,4,4,2,3,2]"
   ]
  },
  {
   "cell_type": "code",
   "execution_count": 72,
   "id": "ecbdc0a5",
   "metadata": {},
   "outputs": [],
   "source": [
    "df =pd.DataFrame({'Total bills':total_bills, 'tips':tip,'sex':sex,'day':day,'smoker':smoker,'size':size})"
   ]
  },
  {
   "cell_type": "code",
   "execution_count": 73,
   "id": "591d23f2",
   "metadata": {},
   "outputs": [
    {
     "data": {
      "text/html": [
       "<div>\n",
       "<style scoped>\n",
       "    .dataframe tbody tr th:only-of-type {\n",
       "        vertical-align: middle;\n",
       "    }\n",
       "\n",
       "    .dataframe tbody tr th {\n",
       "        vertical-align: top;\n",
       "    }\n",
       "\n",
       "    .dataframe thead th {\n",
       "        text-align: right;\n",
       "    }\n",
       "</style>\n",
       "<table border=\"1\" class=\"dataframe\">\n",
       "  <thead>\n",
       "    <tr style=\"text-align: right;\">\n",
       "      <th></th>\n",
       "      <th>Total bills</th>\n",
       "      <th>tips</th>\n",
       "      <th>sex</th>\n",
       "      <th>day</th>\n",
       "      <th>smoker</th>\n",
       "      <th>size</th>\n",
       "    </tr>\n",
       "  </thead>\n",
       "  <tbody>\n",
       "    <tr>\n",
       "      <th>0</th>\n",
       "      <td>12.44</td>\n",
       "      <td>1.4</td>\n",
       "      <td>f</td>\n",
       "      <td>sun</td>\n",
       "      <td>y</td>\n",
       "      <td>2</td>\n",
       "    </tr>\n",
       "    <tr>\n",
       "      <th>1</th>\n",
       "      <td>43.00</td>\n",
       "      <td>3.0</td>\n",
       "      <td>m</td>\n",
       "      <td>sun</td>\n",
       "      <td>n</td>\n",
       "      <td>3</td>\n",
       "    </tr>\n",
       "    <tr>\n",
       "      <th>2</th>\n",
       "      <td>23.00</td>\n",
       "      <td>2.0</td>\n",
       "      <td>m</td>\n",
       "      <td>sun</td>\n",
       "      <td>y</td>\n",
       "      <td>4</td>\n",
       "    </tr>\n",
       "    <tr>\n",
       "      <th>3</th>\n",
       "      <td>31.00</td>\n",
       "      <td>4.0</td>\n",
       "      <td>m</td>\n",
       "      <td>sun</td>\n",
       "      <td>y</td>\n",
       "      <td>4</td>\n",
       "    </tr>\n",
       "    <tr>\n",
       "      <th>4</th>\n",
       "      <td>22.00</td>\n",
       "      <td>2.4</td>\n",
       "      <td>f</td>\n",
       "      <td>sun</td>\n",
       "      <td>n</td>\n",
       "      <td>2</td>\n",
       "    </tr>\n",
       "    <tr>\n",
       "      <th>5</th>\n",
       "      <td>12.00</td>\n",
       "      <td>3.8</td>\n",
       "      <td>f</td>\n",
       "      <td>sun</td>\n",
       "      <td>y</td>\n",
       "      <td>3</td>\n",
       "    </tr>\n",
       "    <tr>\n",
       "      <th>6</th>\n",
       "      <td>13.20</td>\n",
       "      <td>2.2</td>\n",
       "      <td>m</td>\n",
       "      <td>sun</td>\n",
       "      <td>n</td>\n",
       "      <td>2</td>\n",
       "    </tr>\n",
       "  </tbody>\n",
       "</table>\n",
       "</div>"
      ],
      "text/plain": [
       "   Total bills  tips sex  day smoker  size\n",
       "0        12.44   1.4   f  sun      y     2\n",
       "1        43.00   3.0   m  sun      n     3\n",
       "2        23.00   2.0   m  sun      y     4\n",
       "3        31.00   4.0   m  sun      y     4\n",
       "4        22.00   2.4   f  sun      n     2\n",
       "5        12.00   3.8   f  sun      y     3\n",
       "6        13.20   2.2   m  sun      n     2"
      ]
     },
     "execution_count": 73,
     "metadata": {},
     "output_type": "execute_result"
    }
   ],
   "source": [
    "df"
   ]
  },
  {
   "cell_type": "markdown",
   "id": "c18cccad",
   "metadata": {},
   "source": [
    "here we have categorical columns like sex, day ,smoker"
   ]
  },
  {
   "cell_type": "markdown",
   "id": "17ecc462",
   "metadata": {},
   "source": [
    "Method to convert categorical to numerical"
   ]
  },
  {
   "cell_type": "markdown",
   "id": "c26f2f0a",
   "metadata": {},
   "source": [
    "# method 1: get dummies"
   ]
  },
  {
   "cell_type": "code",
   "execution_count": 76,
   "id": "e7259a10",
   "metadata": {},
   "outputs": [],
   "source": [
    "df1= pd.get_dummies(df['sex'])"
   ]
  },
  {
   "cell_type": "code",
   "execution_count": 77,
   "id": "87e8c5c7",
   "metadata": {},
   "outputs": [
    {
     "data": {
      "text/html": [
       "<div>\n",
       "<style scoped>\n",
       "    .dataframe tbody tr th:only-of-type {\n",
       "        vertical-align: middle;\n",
       "    }\n",
       "\n",
       "    .dataframe tbody tr th {\n",
       "        vertical-align: top;\n",
       "    }\n",
       "\n",
       "    .dataframe thead th {\n",
       "        text-align: right;\n",
       "    }\n",
       "</style>\n",
       "<table border=\"1\" class=\"dataframe\">\n",
       "  <thead>\n",
       "    <tr style=\"text-align: right;\">\n",
       "      <th></th>\n",
       "      <th>f</th>\n",
       "      <th>m</th>\n",
       "    </tr>\n",
       "  </thead>\n",
       "  <tbody>\n",
       "    <tr>\n",
       "      <th>0</th>\n",
       "      <td>1</td>\n",
       "      <td>0</td>\n",
       "    </tr>\n",
       "    <tr>\n",
       "      <th>1</th>\n",
       "      <td>0</td>\n",
       "      <td>1</td>\n",
       "    </tr>\n",
       "    <tr>\n",
       "      <th>2</th>\n",
       "      <td>0</td>\n",
       "      <td>1</td>\n",
       "    </tr>\n",
       "    <tr>\n",
       "      <th>3</th>\n",
       "      <td>0</td>\n",
       "      <td>1</td>\n",
       "    </tr>\n",
       "    <tr>\n",
       "      <th>4</th>\n",
       "      <td>1</td>\n",
       "      <td>0</td>\n",
       "    </tr>\n",
       "    <tr>\n",
       "      <th>5</th>\n",
       "      <td>1</td>\n",
       "      <td>0</td>\n",
       "    </tr>\n",
       "    <tr>\n",
       "      <th>6</th>\n",
       "      <td>0</td>\n",
       "      <td>1</td>\n",
       "    </tr>\n",
       "  </tbody>\n",
       "</table>\n",
       "</div>"
      ],
      "text/plain": [
       "   f  m\n",
       "0  1  0\n",
       "1  0  1\n",
       "2  0  1\n",
       "3  0  1\n",
       "4  1  0\n",
       "5  1  0\n",
       "6  0  1"
      ]
     },
     "execution_count": 77,
     "metadata": {},
     "output_type": "execute_result"
    }
   ],
   "source": [
    "df1"
   ]
  },
  {
   "cell_type": "code",
   "execution_count": 78,
   "id": "d9b019a1",
   "metadata": {},
   "outputs": [],
   "source": [
    "# now dropping the column sex as we created the numerical data for it"
   ]
  },
  {
   "cell_type": "code",
   "execution_count": 79,
   "id": "9c5bec9d",
   "metadata": {},
   "outputs": [],
   "source": [
    "df.drop('sex', axis=1, inplace=True)"
   ]
  },
  {
   "cell_type": "code",
   "execution_count": 80,
   "id": "5b17c196",
   "metadata": {},
   "outputs": [
    {
     "data": {
      "text/html": [
       "<div>\n",
       "<style scoped>\n",
       "    .dataframe tbody tr th:only-of-type {\n",
       "        vertical-align: middle;\n",
       "    }\n",
       "\n",
       "    .dataframe tbody tr th {\n",
       "        vertical-align: top;\n",
       "    }\n",
       "\n",
       "    .dataframe thead th {\n",
       "        text-align: right;\n",
       "    }\n",
       "</style>\n",
       "<table border=\"1\" class=\"dataframe\">\n",
       "  <thead>\n",
       "    <tr style=\"text-align: right;\">\n",
       "      <th></th>\n",
       "      <th>Total bills</th>\n",
       "      <th>tips</th>\n",
       "      <th>day</th>\n",
       "      <th>smoker</th>\n",
       "      <th>size</th>\n",
       "    </tr>\n",
       "  </thead>\n",
       "  <tbody>\n",
       "    <tr>\n",
       "      <th>0</th>\n",
       "      <td>12.44</td>\n",
       "      <td>1.4</td>\n",
       "      <td>sun</td>\n",
       "      <td>y</td>\n",
       "      <td>2</td>\n",
       "    </tr>\n",
       "    <tr>\n",
       "      <th>1</th>\n",
       "      <td>43.00</td>\n",
       "      <td>3.0</td>\n",
       "      <td>sun</td>\n",
       "      <td>n</td>\n",
       "      <td>3</td>\n",
       "    </tr>\n",
       "    <tr>\n",
       "      <th>2</th>\n",
       "      <td>23.00</td>\n",
       "      <td>2.0</td>\n",
       "      <td>sun</td>\n",
       "      <td>y</td>\n",
       "      <td>4</td>\n",
       "    </tr>\n",
       "    <tr>\n",
       "      <th>3</th>\n",
       "      <td>31.00</td>\n",
       "      <td>4.0</td>\n",
       "      <td>sun</td>\n",
       "      <td>y</td>\n",
       "      <td>4</td>\n",
       "    </tr>\n",
       "    <tr>\n",
       "      <th>4</th>\n",
       "      <td>22.00</td>\n",
       "      <td>2.4</td>\n",
       "      <td>sun</td>\n",
       "      <td>n</td>\n",
       "      <td>2</td>\n",
       "    </tr>\n",
       "    <tr>\n",
       "      <th>5</th>\n",
       "      <td>12.00</td>\n",
       "      <td>3.8</td>\n",
       "      <td>sun</td>\n",
       "      <td>y</td>\n",
       "      <td>3</td>\n",
       "    </tr>\n",
       "    <tr>\n",
       "      <th>6</th>\n",
       "      <td>13.20</td>\n",
       "      <td>2.2</td>\n",
       "      <td>sun</td>\n",
       "      <td>n</td>\n",
       "      <td>2</td>\n",
       "    </tr>\n",
       "  </tbody>\n",
       "</table>\n",
       "</div>"
      ],
      "text/plain": [
       "   Total bills  tips  day smoker  size\n",
       "0        12.44   1.4  sun      y     2\n",
       "1        43.00   3.0  sun      n     3\n",
       "2        23.00   2.0  sun      y     4\n",
       "3        31.00   4.0  sun      y     4\n",
       "4        22.00   2.4  sun      n     2\n",
       "5        12.00   3.8  sun      y     3\n",
       "6        13.20   2.2  sun      n     2"
      ]
     },
     "execution_count": 80,
     "metadata": {},
     "output_type": "execute_result"
    }
   ],
   "source": [
    "df"
   ]
  },
  {
   "cell_type": "code",
   "execution_count": 81,
   "id": "01ec4f1b",
   "metadata": {},
   "outputs": [],
   "source": [
    "# now adding the columns that we just created"
   ]
  },
  {
   "cell_type": "code",
   "execution_count": 82,
   "id": "a41533b7",
   "metadata": {},
   "outputs": [],
   "source": [
    "df['m']= df1['m'].to_list()"
   ]
  },
  {
   "cell_type": "code",
   "execution_count": 83,
   "id": "88ad2dd6",
   "metadata": {},
   "outputs": [],
   "source": [
    "df['f']= df1['f'].to_list()"
   ]
  },
  {
   "cell_type": "code",
   "execution_count": 84,
   "id": "082020e3",
   "metadata": {},
   "outputs": [
    {
     "data": {
      "text/html": [
       "<div>\n",
       "<style scoped>\n",
       "    .dataframe tbody tr th:only-of-type {\n",
       "        vertical-align: middle;\n",
       "    }\n",
       "\n",
       "    .dataframe tbody tr th {\n",
       "        vertical-align: top;\n",
       "    }\n",
       "\n",
       "    .dataframe thead th {\n",
       "        text-align: right;\n",
       "    }\n",
       "</style>\n",
       "<table border=\"1\" class=\"dataframe\">\n",
       "  <thead>\n",
       "    <tr style=\"text-align: right;\">\n",
       "      <th></th>\n",
       "      <th>Total bills</th>\n",
       "      <th>tips</th>\n",
       "      <th>day</th>\n",
       "      <th>smoker</th>\n",
       "      <th>size</th>\n",
       "      <th>m</th>\n",
       "      <th>f</th>\n",
       "    </tr>\n",
       "  </thead>\n",
       "  <tbody>\n",
       "    <tr>\n",
       "      <th>0</th>\n",
       "      <td>12.44</td>\n",
       "      <td>1.4</td>\n",
       "      <td>sun</td>\n",
       "      <td>y</td>\n",
       "      <td>2</td>\n",
       "      <td>0</td>\n",
       "      <td>1</td>\n",
       "    </tr>\n",
       "    <tr>\n",
       "      <th>1</th>\n",
       "      <td>43.00</td>\n",
       "      <td>3.0</td>\n",
       "      <td>sun</td>\n",
       "      <td>n</td>\n",
       "      <td>3</td>\n",
       "      <td>1</td>\n",
       "      <td>0</td>\n",
       "    </tr>\n",
       "    <tr>\n",
       "      <th>2</th>\n",
       "      <td>23.00</td>\n",
       "      <td>2.0</td>\n",
       "      <td>sun</td>\n",
       "      <td>y</td>\n",
       "      <td>4</td>\n",
       "      <td>1</td>\n",
       "      <td>0</td>\n",
       "    </tr>\n",
       "    <tr>\n",
       "      <th>3</th>\n",
       "      <td>31.00</td>\n",
       "      <td>4.0</td>\n",
       "      <td>sun</td>\n",
       "      <td>y</td>\n",
       "      <td>4</td>\n",
       "      <td>1</td>\n",
       "      <td>0</td>\n",
       "    </tr>\n",
       "    <tr>\n",
       "      <th>4</th>\n",
       "      <td>22.00</td>\n",
       "      <td>2.4</td>\n",
       "      <td>sun</td>\n",
       "      <td>n</td>\n",
       "      <td>2</td>\n",
       "      <td>0</td>\n",
       "      <td>1</td>\n",
       "    </tr>\n",
       "    <tr>\n",
       "      <th>5</th>\n",
       "      <td>12.00</td>\n",
       "      <td>3.8</td>\n",
       "      <td>sun</td>\n",
       "      <td>y</td>\n",
       "      <td>3</td>\n",
       "      <td>0</td>\n",
       "      <td>1</td>\n",
       "    </tr>\n",
       "    <tr>\n",
       "      <th>6</th>\n",
       "      <td>13.20</td>\n",
       "      <td>2.2</td>\n",
       "      <td>sun</td>\n",
       "      <td>n</td>\n",
       "      <td>2</td>\n",
       "      <td>1</td>\n",
       "      <td>0</td>\n",
       "    </tr>\n",
       "  </tbody>\n",
       "</table>\n",
       "</div>"
      ],
      "text/plain": [
       "   Total bills  tips  day smoker  size  m  f\n",
       "0        12.44   1.4  sun      y     2  0  1\n",
       "1        43.00   3.0  sun      n     3  1  0\n",
       "2        23.00   2.0  sun      y     4  1  0\n",
       "3        31.00   4.0  sun      y     4  1  0\n",
       "4        22.00   2.4  sun      n     2  0  1\n",
       "5        12.00   3.8  sun      y     3  0  1\n",
       "6        13.20   2.2  sun      n     2  1  0"
      ]
     },
     "execution_count": 84,
     "metadata": {},
     "output_type": "execute_result"
    }
   ],
   "source": [
    "df"
   ]
  },
  {
   "cell_type": "code",
   "execution_count": 85,
   "id": "a155c805",
   "metadata": {},
   "outputs": [],
   "source": [
    "# here new cols are added"
   ]
  },
  {
   "cell_type": "markdown",
   "id": "3ecb6d75",
   "metadata": {},
   "source": [
    "# method 2: Using Label Encoding"
   ]
  },
  {
   "cell_type": "code",
   "execution_count": 88,
   "id": "6ed2c29d",
   "metadata": {},
   "outputs": [],
   "source": [
    "total_bills=[12.44,43,23,31,22,12,13.2]\n",
    "tip=[1.4,3,2,4,2.4,3.8,2.2]\n",
    "sex=['f','m','m','m','f','f','m']\n",
    "day=['sun','sun','sun','sun','sun','sun','sun']\n",
    "smoker=['y','n','y','y','n','y','n']\n",
    "size=[2,3,4,4,2,3,2]"
   ]
  },
  {
   "cell_type": "code",
   "execution_count": 87,
   "id": "307cd2fc",
   "metadata": {},
   "outputs": [],
   "source": [
    "df =pd.DataFrame({'Total bills':total_bills, 'tips':tip,'sex':sex,'day':day,'smoker':smoker,'size':size})"
   ]
  },
  {
   "cell_type": "code",
   "execution_count": 89,
   "id": "4ffddcbd",
   "metadata": {},
   "outputs": [
    {
     "data": {
      "text/html": [
       "<div>\n",
       "<style scoped>\n",
       "    .dataframe tbody tr th:only-of-type {\n",
       "        vertical-align: middle;\n",
       "    }\n",
       "\n",
       "    .dataframe tbody tr th {\n",
       "        vertical-align: top;\n",
       "    }\n",
       "\n",
       "    .dataframe thead th {\n",
       "        text-align: right;\n",
       "    }\n",
       "</style>\n",
       "<table border=\"1\" class=\"dataframe\">\n",
       "  <thead>\n",
       "    <tr style=\"text-align: right;\">\n",
       "      <th></th>\n",
       "      <th>Total bills</th>\n",
       "      <th>tips</th>\n",
       "      <th>sex</th>\n",
       "      <th>day</th>\n",
       "      <th>smoker</th>\n",
       "      <th>size</th>\n",
       "    </tr>\n",
       "  </thead>\n",
       "  <tbody>\n",
       "    <tr>\n",
       "      <th>0</th>\n",
       "      <td>12.44</td>\n",
       "      <td>1.4</td>\n",
       "      <td>f</td>\n",
       "      <td>sun</td>\n",
       "      <td>y</td>\n",
       "      <td>2</td>\n",
       "    </tr>\n",
       "    <tr>\n",
       "      <th>1</th>\n",
       "      <td>43.00</td>\n",
       "      <td>3.0</td>\n",
       "      <td>m</td>\n",
       "      <td>sun</td>\n",
       "      <td>n</td>\n",
       "      <td>3</td>\n",
       "    </tr>\n",
       "    <tr>\n",
       "      <th>2</th>\n",
       "      <td>23.00</td>\n",
       "      <td>2.0</td>\n",
       "      <td>m</td>\n",
       "      <td>sun</td>\n",
       "      <td>y</td>\n",
       "      <td>4</td>\n",
       "    </tr>\n",
       "    <tr>\n",
       "      <th>3</th>\n",
       "      <td>31.00</td>\n",
       "      <td>4.0</td>\n",
       "      <td>m</td>\n",
       "      <td>sun</td>\n",
       "      <td>y</td>\n",
       "      <td>4</td>\n",
       "    </tr>\n",
       "    <tr>\n",
       "      <th>4</th>\n",
       "      <td>22.00</td>\n",
       "      <td>2.4</td>\n",
       "      <td>f</td>\n",
       "      <td>sun</td>\n",
       "      <td>n</td>\n",
       "      <td>2</td>\n",
       "    </tr>\n",
       "    <tr>\n",
       "      <th>5</th>\n",
       "      <td>12.00</td>\n",
       "      <td>3.8</td>\n",
       "      <td>f</td>\n",
       "      <td>sun</td>\n",
       "      <td>y</td>\n",
       "      <td>3</td>\n",
       "    </tr>\n",
       "    <tr>\n",
       "      <th>6</th>\n",
       "      <td>13.20</td>\n",
       "      <td>2.2</td>\n",
       "      <td>m</td>\n",
       "      <td>sun</td>\n",
       "      <td>n</td>\n",
       "      <td>2</td>\n",
       "    </tr>\n",
       "  </tbody>\n",
       "</table>\n",
       "</div>"
      ],
      "text/plain": [
       "   Total bills  tips sex  day smoker  size\n",
       "0        12.44   1.4   f  sun      y     2\n",
       "1        43.00   3.0   m  sun      n     3\n",
       "2        23.00   2.0   m  sun      y     4\n",
       "3        31.00   4.0   m  sun      y     4\n",
       "4        22.00   2.4   f  sun      n     2\n",
       "5        12.00   3.8   f  sun      y     3\n",
       "6        13.20   2.2   m  sun      n     2"
      ]
     },
     "execution_count": 89,
     "metadata": {},
     "output_type": "execute_result"
    }
   ],
   "source": [
    "df"
   ]
  },
  {
   "cell_type": "markdown",
   "id": "01d3f02b",
   "metadata": {},
   "source": [
    "importing label encoder from libraries"
   ]
  },
  {
   "cell_type": "code",
   "execution_count": 90,
   "id": "0fcb03a2",
   "metadata": {},
   "outputs": [],
   "source": [
    "from sklearn.preprocessing import LabelEncoder"
   ]
  },
  {
   "cell_type": "code",
   "execution_count": 91,
   "id": "e99b80af",
   "metadata": {},
   "outputs": [],
   "source": [
    "label_encoder= LabelEncoder()"
   ]
  },
  {
   "cell_type": "code",
   "execution_count": 92,
   "id": "1b4910c8",
   "metadata": {},
   "outputs": [],
   "source": [
    "label= label_encoder.fit_transform(df['sex'])"
   ]
  },
  {
   "cell_type": "code",
   "execution_count": 93,
   "id": "2f4a0681",
   "metadata": {},
   "outputs": [],
   "source": [
    "#this used to convert categorical data into numerical using label encoder"
   ]
  },
  {
   "cell_type": "code",
   "execution_count": 95,
   "id": "16bd5ddd",
   "metadata": {},
   "outputs": [
    {
     "data": {
      "text/plain": [
       "array([0, 1, 1, 1, 0, 0, 1])"
      ]
     },
     "execution_count": 95,
     "metadata": {},
     "output_type": "execute_result"
    }
   ],
   "source": [
    "label"
   ]
  },
  {
   "cell_type": "markdown",
   "id": "fc3972fc",
   "metadata": {},
   "source": [
    "whenever female it is gioivng 0 and for male it is giving 1"
   ]
  },
  {
   "cell_type": "code",
   "execution_count": 96,
   "id": "0b51e410",
   "metadata": {},
   "outputs": [],
   "source": [
    "# now drop the sex col"
   ]
  },
  {
   "cell_type": "code",
   "execution_count": 97,
   "id": "ba9fedfb",
   "metadata": {},
   "outputs": [],
   "source": [
    "df.drop('sex',axis=1, inplace=True)"
   ]
  },
  {
   "cell_type": "code",
   "execution_count": 98,
   "id": "b9acadc9",
   "metadata": {},
   "outputs": [
    {
     "data": {
      "text/html": [
       "<div>\n",
       "<style scoped>\n",
       "    .dataframe tbody tr th:only-of-type {\n",
       "        vertical-align: middle;\n",
       "    }\n",
       "\n",
       "    .dataframe tbody tr th {\n",
       "        vertical-align: top;\n",
       "    }\n",
       "\n",
       "    .dataframe thead th {\n",
       "        text-align: right;\n",
       "    }\n",
       "</style>\n",
       "<table border=\"1\" class=\"dataframe\">\n",
       "  <thead>\n",
       "    <tr style=\"text-align: right;\">\n",
       "      <th></th>\n",
       "      <th>Total bills</th>\n",
       "      <th>tips</th>\n",
       "      <th>day</th>\n",
       "      <th>smoker</th>\n",
       "      <th>size</th>\n",
       "    </tr>\n",
       "  </thead>\n",
       "  <tbody>\n",
       "    <tr>\n",
       "      <th>0</th>\n",
       "      <td>12.44</td>\n",
       "      <td>1.4</td>\n",
       "      <td>sun</td>\n",
       "      <td>y</td>\n",
       "      <td>2</td>\n",
       "    </tr>\n",
       "    <tr>\n",
       "      <th>1</th>\n",
       "      <td>43.00</td>\n",
       "      <td>3.0</td>\n",
       "      <td>sun</td>\n",
       "      <td>n</td>\n",
       "      <td>3</td>\n",
       "    </tr>\n",
       "    <tr>\n",
       "      <th>2</th>\n",
       "      <td>23.00</td>\n",
       "      <td>2.0</td>\n",
       "      <td>sun</td>\n",
       "      <td>y</td>\n",
       "      <td>4</td>\n",
       "    </tr>\n",
       "    <tr>\n",
       "      <th>3</th>\n",
       "      <td>31.00</td>\n",
       "      <td>4.0</td>\n",
       "      <td>sun</td>\n",
       "      <td>y</td>\n",
       "      <td>4</td>\n",
       "    </tr>\n",
       "    <tr>\n",
       "      <th>4</th>\n",
       "      <td>22.00</td>\n",
       "      <td>2.4</td>\n",
       "      <td>sun</td>\n",
       "      <td>n</td>\n",
       "      <td>2</td>\n",
       "    </tr>\n",
       "    <tr>\n",
       "      <th>5</th>\n",
       "      <td>12.00</td>\n",
       "      <td>3.8</td>\n",
       "      <td>sun</td>\n",
       "      <td>y</td>\n",
       "      <td>3</td>\n",
       "    </tr>\n",
       "    <tr>\n",
       "      <th>6</th>\n",
       "      <td>13.20</td>\n",
       "      <td>2.2</td>\n",
       "      <td>sun</td>\n",
       "      <td>n</td>\n",
       "      <td>2</td>\n",
       "    </tr>\n",
       "  </tbody>\n",
       "</table>\n",
       "</div>"
      ],
      "text/plain": [
       "   Total bills  tips  day smoker  size\n",
       "0        12.44   1.4  sun      y     2\n",
       "1        43.00   3.0  sun      n     3\n",
       "2        23.00   2.0  sun      y     4\n",
       "3        31.00   4.0  sun      y     4\n",
       "4        22.00   2.4  sun      n     2\n",
       "5        12.00   3.8  sun      y     3\n",
       "6        13.20   2.2  sun      n     2"
      ]
     },
     "execution_count": 98,
     "metadata": {},
     "output_type": "execute_result"
    }
   ],
   "source": [
    "df"
   ]
  },
  {
   "cell_type": "code",
   "execution_count": 99,
   "id": "a0aee3f1",
   "metadata": {},
   "outputs": [],
   "source": [
    "# now add to original dataframe"
   ]
  },
  {
   "cell_type": "code",
   "execution_count": 100,
   "id": "b72a2cb4",
   "metadata": {},
   "outputs": [],
   "source": [
    "df['sex']= label"
   ]
  },
  {
   "cell_type": "code",
   "execution_count": 101,
   "id": "33f9cb9d",
   "metadata": {},
   "outputs": [
    {
     "data": {
      "text/html": [
       "<div>\n",
       "<style scoped>\n",
       "    .dataframe tbody tr th:only-of-type {\n",
       "        vertical-align: middle;\n",
       "    }\n",
       "\n",
       "    .dataframe tbody tr th {\n",
       "        vertical-align: top;\n",
       "    }\n",
       "\n",
       "    .dataframe thead th {\n",
       "        text-align: right;\n",
       "    }\n",
       "</style>\n",
       "<table border=\"1\" class=\"dataframe\">\n",
       "  <thead>\n",
       "    <tr style=\"text-align: right;\">\n",
       "      <th></th>\n",
       "      <th>Total bills</th>\n",
       "      <th>tips</th>\n",
       "      <th>day</th>\n",
       "      <th>smoker</th>\n",
       "      <th>size</th>\n",
       "      <th>sex</th>\n",
       "    </tr>\n",
       "  </thead>\n",
       "  <tbody>\n",
       "    <tr>\n",
       "      <th>0</th>\n",
       "      <td>12.44</td>\n",
       "      <td>1.4</td>\n",
       "      <td>sun</td>\n",
       "      <td>y</td>\n",
       "      <td>2</td>\n",
       "      <td>0</td>\n",
       "    </tr>\n",
       "    <tr>\n",
       "      <th>1</th>\n",
       "      <td>43.00</td>\n",
       "      <td>3.0</td>\n",
       "      <td>sun</td>\n",
       "      <td>n</td>\n",
       "      <td>3</td>\n",
       "      <td>1</td>\n",
       "    </tr>\n",
       "    <tr>\n",
       "      <th>2</th>\n",
       "      <td>23.00</td>\n",
       "      <td>2.0</td>\n",
       "      <td>sun</td>\n",
       "      <td>y</td>\n",
       "      <td>4</td>\n",
       "      <td>1</td>\n",
       "    </tr>\n",
       "    <tr>\n",
       "      <th>3</th>\n",
       "      <td>31.00</td>\n",
       "      <td>4.0</td>\n",
       "      <td>sun</td>\n",
       "      <td>y</td>\n",
       "      <td>4</td>\n",
       "      <td>1</td>\n",
       "    </tr>\n",
       "    <tr>\n",
       "      <th>4</th>\n",
       "      <td>22.00</td>\n",
       "      <td>2.4</td>\n",
       "      <td>sun</td>\n",
       "      <td>n</td>\n",
       "      <td>2</td>\n",
       "      <td>0</td>\n",
       "    </tr>\n",
       "    <tr>\n",
       "      <th>5</th>\n",
       "      <td>12.00</td>\n",
       "      <td>3.8</td>\n",
       "      <td>sun</td>\n",
       "      <td>y</td>\n",
       "      <td>3</td>\n",
       "      <td>0</td>\n",
       "    </tr>\n",
       "    <tr>\n",
       "      <th>6</th>\n",
       "      <td>13.20</td>\n",
       "      <td>2.2</td>\n",
       "      <td>sun</td>\n",
       "      <td>n</td>\n",
       "      <td>2</td>\n",
       "      <td>1</td>\n",
       "    </tr>\n",
       "  </tbody>\n",
       "</table>\n",
       "</div>"
      ],
      "text/plain": [
       "   Total bills  tips  day smoker  size  sex\n",
       "0        12.44   1.4  sun      y     2    0\n",
       "1        43.00   3.0  sun      n     3    1\n",
       "2        23.00   2.0  sun      y     4    1\n",
       "3        31.00   4.0  sun      y     4    1\n",
       "4        22.00   2.4  sun      n     2    0\n",
       "5        12.00   3.8  sun      y     3    0\n",
       "6        13.20   2.2  sun      n     2    1"
      ]
     },
     "execution_count": 101,
     "metadata": {},
     "output_type": "execute_result"
    }
   ],
   "source": [
    "df"
   ]
  },
  {
   "cell_type": "code",
   "execution_count": null,
   "id": "44674365",
   "metadata": {},
   "outputs": [],
   "source": []
  }
 ],
 "metadata": {
  "kernelspec": {
   "display_name": "Python 3 (ipykernel)",
   "language": "python",
   "name": "python3"
  },
  "language_info": {
   "codemirror_mode": {
    "name": "ipython",
    "version": 3
   },
   "file_extension": ".py",
   "mimetype": "text/x-python",
   "name": "python",
   "nbconvert_exporter": "python",
   "pygments_lexer": "ipython3",
   "version": "3.9.12"
  }
 },
 "nbformat": 4,
 "nbformat_minor": 5
}
