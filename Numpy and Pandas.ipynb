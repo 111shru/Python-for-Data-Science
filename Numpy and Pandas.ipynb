{
 "cells": [
  {
   "cell_type": "markdown",
   "id": "fdc51107",
   "metadata": {},
   "source": [
    "# Pandas"
   ]
  },
  {
   "cell_type": "code",
   "execution_count": 1,
   "id": "ad3dde4f",
   "metadata": {},
   "outputs": [],
   "source": [
    "import pandas as pd"
   ]
  },
  {
   "cell_type": "code",
   "execution_count": 2,
   "id": "179fd175",
   "metadata": {},
   "outputs": [],
   "source": [
    "list1=[1,2,3,4,5]"
   ]
  },
  {
   "cell_type": "code",
   "execution_count": 3,
   "id": "4581075b",
   "metadata": {},
   "outputs": [
    {
     "data": {
      "text/plain": [
       "[1, 2, 3, 4, 5]"
      ]
     },
     "execution_count": 3,
     "metadata": {},
     "output_type": "execute_result"
    }
   ],
   "source": [
    "list1"
   ]
  },
  {
   "cell_type": "code",
   "execution_count": 4,
   "id": "ecd9a182",
   "metadata": {},
   "outputs": [
    {
     "data": {
      "text/plain": [
       "0    1\n",
       "1    2\n",
       "2    3\n",
       "3    4\n",
       "4    5\n",
       "dtype: int64"
      ]
     },
     "execution_count": 4,
     "metadata": {},
     "output_type": "execute_result"
    }
   ],
   "source": [
    "pd.Series(list1)"
   ]
  },
  {
   "cell_type": "code",
   "execution_count": 5,
   "id": "d08c0750",
   "metadata": {},
   "outputs": [],
   "source": [
    "list2=['a','b','c','d','e']"
   ]
  },
  {
   "cell_type": "code",
   "execution_count": 6,
   "id": "85ac2078",
   "metadata": {},
   "outputs": [
    {
     "data": {
      "text/plain": [
       "['a', 'b', 'c', 'd', 'e']"
      ]
     },
     "execution_count": 6,
     "metadata": {},
     "output_type": "execute_result"
    }
   ],
   "source": [
    "list2"
   ]
  },
  {
   "cell_type": "code",
   "execution_count": 7,
   "id": "a7513238",
   "metadata": {},
   "outputs": [
    {
     "data": {
      "text/plain": [
       "0    a\n",
       "1    b\n",
       "2    c\n",
       "3    d\n",
       "4    e\n",
       "dtype: object"
      ]
     },
     "execution_count": 7,
     "metadata": {},
     "output_type": "execute_result"
    }
   ],
   "source": [
    "pd.Series(list2)"
   ]
  },
  {
   "cell_type": "code",
   "execution_count": 10,
   "id": "26c4eca6",
   "metadata": {},
   "outputs": [
    {
     "data": {
      "text/plain": [
       "a    1\n",
       "b    2\n",
       "c    3\n",
       "d    4\n",
       "e    5\n",
       "dtype: int64"
      ]
     },
     "execution_count": 10,
     "metadata": {},
     "output_type": "execute_result"
    }
   ],
   "source": [
    "pd.Series(data =list1 , index =list2)"
   ]
  },
  {
   "cell_type": "code",
   "execution_count": 11,
   "id": "40ce40dd",
   "metadata": {},
   "outputs": [
    {
     "data": {
      "text/plain": [
       "1    a\n",
       "2    b\n",
       "3    c\n",
       "4    d\n",
       "5    e\n",
       "dtype: object"
      ]
     },
     "execution_count": 11,
     "metadata": {},
     "output_type": "execute_result"
    }
   ],
   "source": [
    "pd.Series(data = list2 , index= list1)"
   ]
  },
  {
   "cell_type": "code",
   "execution_count": 12,
   "id": "272c7174",
   "metadata": {},
   "outputs": [],
   "source": [
    "# Dataframe is a collection of rows and cols, it is just like table"
   ]
  },
  {
   "cell_type": "markdown",
   "id": "6b6e3693",
   "metadata": {},
   "source": [
    "# Numpy"
   ]
  },
  {
   "cell_type": "code",
   "execution_count": 13,
   "id": "2ba324f7",
   "metadata": {},
   "outputs": [],
   "source": [
    "import numpy as np"
   ]
  },
  {
   "cell_type": "code",
   "execution_count": 14,
   "id": "48f81102",
   "metadata": {},
   "outputs": [],
   "source": [
    "#import random nos from numpy library from standard normal distribution"
   ]
  },
  {
   "cell_type": "code",
   "execution_count": 15,
   "id": "fa2eea1e",
   "metadata": {},
   "outputs": [],
   "source": [
    "#use randn function for this"
   ]
  },
  {
   "cell_type": "code",
   "execution_count": 22,
   "id": "04b9ed95",
   "metadata": {},
   "outputs": [],
   "source": [
    "import numpy as np"
   ]
  },
  {
   "cell_type": "code",
   "execution_count": 23,
   "id": "b9a6a56c",
   "metadata": {},
   "outputs": [],
   "source": [
    "from numpy.random import randn"
   ]
  },
  {
   "cell_type": "code",
   "execution_count": 24,
   "id": "dc5e83a5",
   "metadata": {},
   "outputs": [
    {
     "data": {
      "text/plain": [
       "array([[-0.23665744, -0.51107745,  0.31710505, -0.07499477],\n",
       "       [-0.92524771,  2.00696015, -0.35126171,  0.4245588 ],\n",
       "       [-0.14625457, -1.27433301, -1.13047044,  1.71122494],\n",
       "       [ 0.7890252 , -0.16178779,  1.18263668,  1.03739618],\n",
       "       [-0.13240543,  1.18338837,  0.88365299,  0.3362002 ]])"
      ]
     },
     "execution_count": 24,
     "metadata": {},
     "output_type": "execute_result"
    }
   ],
   "source": [
    "randn(5,4)"
   ]
  },
  {
   "cell_type": "code",
   "execution_count": 25,
   "id": "67c6583a",
   "metadata": {},
   "outputs": [],
   "source": [
    "# randn(5,4) means give it gives random values with 5 rows and 4 columns"
   ]
  },
  {
   "cell_type": "code",
   "execution_count": 26,
   "id": "51312e2c",
   "metadata": {},
   "outputs": [
    {
     "data": {
      "text/plain": [
       "array([[ 0.96628254,  0.87063215,  1.14990958,  0.20893949],\n",
       "       [-1.48464572, -0.47934373, -0.75305801, -0.20675959],\n",
       "       [-0.3067181 , -0.45468971,  2.22253687,  1.61496411],\n",
       "       [ 0.47857233,  0.58276478, -0.01484487,  2.55972178],\n",
       "       [-0.33078018, -0.66058998, -0.01870605,  0.17230936]])"
      ]
     },
     "execution_count": 26,
     "metadata": {},
     "output_type": "execute_result"
    }
   ],
   "source": [
    "randn(5,4)"
   ]
  },
  {
   "cell_type": "code",
   "execution_count": 27,
   "id": "04b92239",
   "metadata": {},
   "outputs": [],
   "source": [
    "# here we executed same code but new values appear everytime we execute"
   ]
  },
  {
   "cell_type": "code",
   "execution_count": 28,
   "id": "75e9dc91",
   "metadata": {},
   "outputs": [],
   "source": [
    "# if we want to fix values use seed"
   ]
  },
  {
   "cell_type": "code",
   "execution_count": 29,
   "id": "f3d9265c",
   "metadata": {},
   "outputs": [
    {
     "data": {
      "text/plain": [
       "array([[ 2.70684984,  0.62813271,  0.90796945,  0.50382575],\n",
       "       [ 0.65111795, -0.31931804, -0.84807698,  0.60596535],\n",
       "       [-2.01816824,  0.74012206,  0.52881349, -0.58900053],\n",
       "       [ 0.18869531, -0.75887206, -0.93323722,  0.95505651],\n",
       "       [ 0.19079432,  1.97875732,  2.60596728,  0.68350889]])"
      ]
     },
     "execution_count": 29,
     "metadata": {},
     "output_type": "execute_result"
    }
   ],
   "source": [
    "from numpy.random import randn\n",
    "np.random.seed(101)\n",
    "randn(5,4)"
   ]
  },
  {
   "cell_type": "code",
   "execution_count": 30,
   "id": "b85721b1",
   "metadata": {},
   "outputs": [
    {
     "data": {
      "text/plain": [
       "array([[ 0.30266545,  1.69372293, -1.70608593, -1.15911942],\n",
       "       [-0.13484072,  0.39052784,  0.16690464,  0.18450186],\n",
       "       [ 0.80770591,  0.07295968,  0.63878701,  0.3296463 ],\n",
       "       [-0.49710402, -0.7540697 , -0.9434064 ,  0.48475165],\n",
       "       [-0.11677332,  1.9017548 ,  0.23812696,  1.99665229]])"
      ]
     },
     "execution_count": 30,
     "metadata": {},
     "output_type": "execute_result"
    }
   ],
   "source": [
    "randn(5,4)"
   ]
  },
  {
   "cell_type": "code",
   "execution_count": 31,
   "id": "3b0e2ca0",
   "metadata": {},
   "outputs": [
    {
     "data": {
      "text/plain": [
       "array([[ 2.70684984,  0.62813271,  0.90796945,  0.50382575],\n",
       "       [ 0.65111795, -0.31931804, -0.84807698,  0.60596535],\n",
       "       [-2.01816824,  0.74012206,  0.52881349, -0.58900053],\n",
       "       [ 0.18869531, -0.75887206, -0.93323722,  0.95505651],\n",
       "       [ 0.19079432,  1.97875732,  2.60596728,  0.68350889]])"
      ]
     },
     "execution_count": 31,
     "metadata": {},
     "output_type": "execute_result"
    }
   ],
   "source": [
    "from numpy.random import randn\n",
    "np.random.seed(101)\n",
    "randn(5,4)"
   ]
  },
  {
   "cell_type": "code",
   "execution_count": 34,
   "id": "e9327104",
   "metadata": {},
   "outputs": [],
   "source": [
    "from numpy.random import randn\n",
    "np.random.seed(101)\n",
    "df =pd.DataFrame(randn(5,4), index= 'A B C D E'.split() , columns ='X Y W Z'.split())"
   ]
  },
  {
   "cell_type": "code",
   "execution_count": 35,
   "id": "d9d78a77",
   "metadata": {},
   "outputs": [
    {
     "data": {
      "text/html": [
       "<div>\n",
       "<style scoped>\n",
       "    .dataframe tbody tr th:only-of-type {\n",
       "        vertical-align: middle;\n",
       "    }\n",
       "\n",
       "    .dataframe tbody tr th {\n",
       "        vertical-align: top;\n",
       "    }\n",
       "\n",
       "    .dataframe thead th {\n",
       "        text-align: right;\n",
       "    }\n",
       "</style>\n",
       "<table border=\"1\" class=\"dataframe\">\n",
       "  <thead>\n",
       "    <tr style=\"text-align: right;\">\n",
       "      <th></th>\n",
       "      <th>X</th>\n",
       "      <th>Y</th>\n",
       "      <th>W</th>\n",
       "      <th>Z</th>\n",
       "    </tr>\n",
       "  </thead>\n",
       "  <tbody>\n",
       "    <tr>\n",
       "      <th>A</th>\n",
       "      <td>2.706850</td>\n",
       "      <td>0.628133</td>\n",
       "      <td>0.907969</td>\n",
       "      <td>0.503826</td>\n",
       "    </tr>\n",
       "    <tr>\n",
       "      <th>B</th>\n",
       "      <td>0.651118</td>\n",
       "      <td>-0.319318</td>\n",
       "      <td>-0.848077</td>\n",
       "      <td>0.605965</td>\n",
       "    </tr>\n",
       "    <tr>\n",
       "      <th>C</th>\n",
       "      <td>-2.018168</td>\n",
       "      <td>0.740122</td>\n",
       "      <td>0.528813</td>\n",
       "      <td>-0.589001</td>\n",
       "    </tr>\n",
       "    <tr>\n",
       "      <th>D</th>\n",
       "      <td>0.188695</td>\n",
       "      <td>-0.758872</td>\n",
       "      <td>-0.933237</td>\n",
       "      <td>0.955057</td>\n",
       "    </tr>\n",
       "    <tr>\n",
       "      <th>E</th>\n",
       "      <td>0.190794</td>\n",
       "      <td>1.978757</td>\n",
       "      <td>2.605967</td>\n",
       "      <td>0.683509</td>\n",
       "    </tr>\n",
       "  </tbody>\n",
       "</table>\n",
       "</div>"
      ],
      "text/plain": [
       "          X         Y         W         Z\n",
       "A  2.706850  0.628133  0.907969  0.503826\n",
       "B  0.651118 -0.319318 -0.848077  0.605965\n",
       "C -2.018168  0.740122  0.528813 -0.589001\n",
       "D  0.188695 -0.758872 -0.933237  0.955057\n",
       "E  0.190794  1.978757  2.605967  0.683509"
      ]
     },
     "execution_count": 35,
     "metadata": {},
     "output_type": "execute_result"
    }
   ],
   "source": [
    "df"
   ]
  },
  {
   "cell_type": "code",
   "execution_count": 37,
   "id": "ed7dc51c",
   "metadata": {},
   "outputs": [
    {
     "data": {
      "text/plain": [
       "A    0.907969\n",
       "B   -0.848077\n",
       "C    0.528813\n",
       "D   -0.933237\n",
       "E    2.605967\n",
       "Name: W, dtype: float64"
      ]
     },
     "execution_count": 37,
     "metadata": {},
     "output_type": "execute_result"
    }
   ],
   "source": [
    "df['W']"
   ]
  },
  {
   "cell_type": "code",
   "execution_count": 38,
   "id": "8c44fe1b",
   "metadata": {},
   "outputs": [],
   "source": [
    "df['new']= df['X'] + df['Y']"
   ]
  },
  {
   "cell_type": "code",
   "execution_count": 39,
   "id": "e68b7046",
   "metadata": {},
   "outputs": [
    {
     "data": {
      "text/plain": [
       "A    3.334983\n",
       "B    0.331800\n",
       "C   -1.278046\n",
       "D   -0.570177\n",
       "E    2.169552\n",
       "Name: new, dtype: float64"
      ]
     },
     "execution_count": 39,
     "metadata": {},
     "output_type": "execute_result"
    }
   ],
   "source": [
    "df['new']"
   ]
  },
  {
   "cell_type": "code",
   "execution_count": 40,
   "id": "ead0fab1",
   "metadata": {},
   "outputs": [
    {
     "data": {
      "text/html": [
       "<div>\n",
       "<style scoped>\n",
       "    .dataframe tbody tr th:only-of-type {\n",
       "        vertical-align: middle;\n",
       "    }\n",
       "\n",
       "    .dataframe tbody tr th {\n",
       "        vertical-align: top;\n",
       "    }\n",
       "\n",
       "    .dataframe thead th {\n",
       "        text-align: right;\n",
       "    }\n",
       "</style>\n",
       "<table border=\"1\" class=\"dataframe\">\n",
       "  <thead>\n",
       "    <tr style=\"text-align: right;\">\n",
       "      <th></th>\n",
       "      <th>X</th>\n",
       "      <th>Y</th>\n",
       "      <th>W</th>\n",
       "      <th>Z</th>\n",
       "      <th>new</th>\n",
       "    </tr>\n",
       "  </thead>\n",
       "  <tbody>\n",
       "    <tr>\n",
       "      <th>A</th>\n",
       "      <td>2.706850</td>\n",
       "      <td>0.628133</td>\n",
       "      <td>0.907969</td>\n",
       "      <td>0.503826</td>\n",
       "      <td>3.334983</td>\n",
       "    </tr>\n",
       "    <tr>\n",
       "      <th>B</th>\n",
       "      <td>0.651118</td>\n",
       "      <td>-0.319318</td>\n",
       "      <td>-0.848077</td>\n",
       "      <td>0.605965</td>\n",
       "      <td>0.331800</td>\n",
       "    </tr>\n",
       "    <tr>\n",
       "      <th>C</th>\n",
       "      <td>-2.018168</td>\n",
       "      <td>0.740122</td>\n",
       "      <td>0.528813</td>\n",
       "      <td>-0.589001</td>\n",
       "      <td>-1.278046</td>\n",
       "    </tr>\n",
       "    <tr>\n",
       "      <th>D</th>\n",
       "      <td>0.188695</td>\n",
       "      <td>-0.758872</td>\n",
       "      <td>-0.933237</td>\n",
       "      <td>0.955057</td>\n",
       "      <td>-0.570177</td>\n",
       "    </tr>\n",
       "    <tr>\n",
       "      <th>E</th>\n",
       "      <td>0.190794</td>\n",
       "      <td>1.978757</td>\n",
       "      <td>2.605967</td>\n",
       "      <td>0.683509</td>\n",
       "      <td>2.169552</td>\n",
       "    </tr>\n",
       "  </tbody>\n",
       "</table>\n",
       "</div>"
      ],
      "text/plain": [
       "          X         Y         W         Z       new\n",
       "A  2.706850  0.628133  0.907969  0.503826  3.334983\n",
       "B  0.651118 -0.319318 -0.848077  0.605965  0.331800\n",
       "C -2.018168  0.740122  0.528813 -0.589001 -1.278046\n",
       "D  0.188695 -0.758872 -0.933237  0.955057 -0.570177\n",
       "E  0.190794  1.978757  2.605967  0.683509  2.169552"
      ]
     },
     "execution_count": 40,
     "metadata": {},
     "output_type": "execute_result"
    }
   ],
   "source": [
    "df"
   ]
  },
  {
   "cell_type": "code",
   "execution_count": 42,
   "id": "ca55edc5",
   "metadata": {},
   "outputs": [
    {
     "data": {
      "text/html": [
       "<div>\n",
       "<style scoped>\n",
       "    .dataframe tbody tr th:only-of-type {\n",
       "        vertical-align: middle;\n",
       "    }\n",
       "\n",
       "    .dataframe tbody tr th {\n",
       "        vertical-align: top;\n",
       "    }\n",
       "\n",
       "    .dataframe thead th {\n",
       "        text-align: right;\n",
       "    }\n",
       "</style>\n",
       "<table border=\"1\" class=\"dataframe\">\n",
       "  <thead>\n",
       "    <tr style=\"text-align: right;\">\n",
       "      <th></th>\n",
       "      <th>X</th>\n",
       "      <th>Y</th>\n",
       "      <th>W</th>\n",
       "      <th>Z</th>\n",
       "    </tr>\n",
       "  </thead>\n",
       "  <tbody>\n",
       "    <tr>\n",
       "      <th>A</th>\n",
       "      <td>2.706850</td>\n",
       "      <td>0.628133</td>\n",
       "      <td>0.907969</td>\n",
       "      <td>0.503826</td>\n",
       "    </tr>\n",
       "    <tr>\n",
       "      <th>B</th>\n",
       "      <td>0.651118</td>\n",
       "      <td>-0.319318</td>\n",
       "      <td>-0.848077</td>\n",
       "      <td>0.605965</td>\n",
       "    </tr>\n",
       "    <tr>\n",
       "      <th>C</th>\n",
       "      <td>-2.018168</td>\n",
       "      <td>0.740122</td>\n",
       "      <td>0.528813</td>\n",
       "      <td>-0.589001</td>\n",
       "    </tr>\n",
       "    <tr>\n",
       "      <th>D</th>\n",
       "      <td>0.188695</td>\n",
       "      <td>-0.758872</td>\n",
       "      <td>-0.933237</td>\n",
       "      <td>0.955057</td>\n",
       "    </tr>\n",
       "    <tr>\n",
       "      <th>E</th>\n",
       "      <td>0.190794</td>\n",
       "      <td>1.978757</td>\n",
       "      <td>2.605967</td>\n",
       "      <td>0.683509</td>\n",
       "    </tr>\n",
       "  </tbody>\n",
       "</table>\n",
       "</div>"
      ],
      "text/plain": [
       "          X         Y         W         Z\n",
       "A  2.706850  0.628133  0.907969  0.503826\n",
       "B  0.651118 -0.319318 -0.848077  0.605965\n",
       "C -2.018168  0.740122  0.528813 -0.589001\n",
       "D  0.188695 -0.758872 -0.933237  0.955057\n",
       "E  0.190794  1.978757  2.605967  0.683509"
      ]
     },
     "execution_count": 42,
     "metadata": {},
     "output_type": "execute_result"
    }
   ],
   "source": [
    "df.drop('new', axis=1)"
   ]
  },
  {
   "cell_type": "code",
   "execution_count": 43,
   "id": "9bbdd912",
   "metadata": {},
   "outputs": [
    {
     "data": {
      "text/html": [
       "<div>\n",
       "<style scoped>\n",
       "    .dataframe tbody tr th:only-of-type {\n",
       "        vertical-align: middle;\n",
       "    }\n",
       "\n",
       "    .dataframe tbody tr th {\n",
       "        vertical-align: top;\n",
       "    }\n",
       "\n",
       "    .dataframe thead th {\n",
       "        text-align: right;\n",
       "    }\n",
       "</style>\n",
       "<table border=\"1\" class=\"dataframe\">\n",
       "  <thead>\n",
       "    <tr style=\"text-align: right;\">\n",
       "      <th></th>\n",
       "      <th>X</th>\n",
       "      <th>Y</th>\n",
       "      <th>W</th>\n",
       "      <th>Z</th>\n",
       "      <th>new</th>\n",
       "    </tr>\n",
       "  </thead>\n",
       "  <tbody>\n",
       "    <tr>\n",
       "      <th>A</th>\n",
       "      <td>2.706850</td>\n",
       "      <td>0.628133</td>\n",
       "      <td>0.907969</td>\n",
       "      <td>0.503826</td>\n",
       "      <td>3.334983</td>\n",
       "    </tr>\n",
       "    <tr>\n",
       "      <th>B</th>\n",
       "      <td>0.651118</td>\n",
       "      <td>-0.319318</td>\n",
       "      <td>-0.848077</td>\n",
       "      <td>0.605965</td>\n",
       "      <td>0.331800</td>\n",
       "    </tr>\n",
       "    <tr>\n",
       "      <th>C</th>\n",
       "      <td>-2.018168</td>\n",
       "      <td>0.740122</td>\n",
       "      <td>0.528813</td>\n",
       "      <td>-0.589001</td>\n",
       "      <td>-1.278046</td>\n",
       "    </tr>\n",
       "    <tr>\n",
       "      <th>D</th>\n",
       "      <td>0.188695</td>\n",
       "      <td>-0.758872</td>\n",
       "      <td>-0.933237</td>\n",
       "      <td>0.955057</td>\n",
       "      <td>-0.570177</td>\n",
       "    </tr>\n",
       "    <tr>\n",
       "      <th>E</th>\n",
       "      <td>0.190794</td>\n",
       "      <td>1.978757</td>\n",
       "      <td>2.605967</td>\n",
       "      <td>0.683509</td>\n",
       "      <td>2.169552</td>\n",
       "    </tr>\n",
       "  </tbody>\n",
       "</table>\n",
       "</div>"
      ],
      "text/plain": [
       "          X         Y         W         Z       new\n",
       "A  2.706850  0.628133  0.907969  0.503826  3.334983\n",
       "B  0.651118 -0.319318 -0.848077  0.605965  0.331800\n",
       "C -2.018168  0.740122  0.528813 -0.589001 -1.278046\n",
       "D  0.188695 -0.758872 -0.933237  0.955057 -0.570177\n",
       "E  0.190794  1.978757  2.605967  0.683509  2.169552"
      ]
     },
     "execution_count": 43,
     "metadata": {},
     "output_type": "execute_result"
    }
   ],
   "source": [
    "df"
   ]
  },
  {
   "cell_type": "code",
   "execution_count": 47,
   "id": "7acc5745",
   "metadata": {},
   "outputs": [],
   "source": [
    "# drop will not permanently delete the new column, also axis is equal to 1 means full column, if 0 then it means row of that new col"
   ]
  },
  {
   "cell_type": "code",
   "execution_count": 46,
   "id": "65ec6482",
   "metadata": {},
   "outputs": [],
   "source": [
    "#to permenantly delete any columns use inplace,  "
   ]
  },
  {
   "cell_type": "code",
   "execution_count": 48,
   "id": "df1d4235",
   "metadata": {},
   "outputs": [],
   "source": [
    "df.drop('new', axis=1, inplace= True)"
   ]
  },
  {
   "cell_type": "code",
   "execution_count": 50,
   "id": "105ad422",
   "metadata": {},
   "outputs": [
    {
     "data": {
      "text/html": [
       "<div>\n",
       "<style scoped>\n",
       "    .dataframe tbody tr th:only-of-type {\n",
       "        vertical-align: middle;\n",
       "    }\n",
       "\n",
       "    .dataframe tbody tr th {\n",
       "        vertical-align: top;\n",
       "    }\n",
       "\n",
       "    .dataframe thead th {\n",
       "        text-align: right;\n",
       "    }\n",
       "</style>\n",
       "<table border=\"1\" class=\"dataframe\">\n",
       "  <thead>\n",
       "    <tr style=\"text-align: right;\">\n",
       "      <th></th>\n",
       "      <th>X</th>\n",
       "      <th>Y</th>\n",
       "      <th>W</th>\n",
       "      <th>Z</th>\n",
       "    </tr>\n",
       "  </thead>\n",
       "  <tbody>\n",
       "    <tr>\n",
       "      <th>A</th>\n",
       "      <td>2.706850</td>\n",
       "      <td>0.628133</td>\n",
       "      <td>0.907969</td>\n",
       "      <td>0.503826</td>\n",
       "    </tr>\n",
       "    <tr>\n",
       "      <th>B</th>\n",
       "      <td>0.651118</td>\n",
       "      <td>-0.319318</td>\n",
       "      <td>-0.848077</td>\n",
       "      <td>0.605965</td>\n",
       "    </tr>\n",
       "    <tr>\n",
       "      <th>C</th>\n",
       "      <td>-2.018168</td>\n",
       "      <td>0.740122</td>\n",
       "      <td>0.528813</td>\n",
       "      <td>-0.589001</td>\n",
       "    </tr>\n",
       "    <tr>\n",
       "      <th>D</th>\n",
       "      <td>0.188695</td>\n",
       "      <td>-0.758872</td>\n",
       "      <td>-0.933237</td>\n",
       "      <td>0.955057</td>\n",
       "    </tr>\n",
       "    <tr>\n",
       "      <th>E</th>\n",
       "      <td>0.190794</td>\n",
       "      <td>1.978757</td>\n",
       "      <td>2.605967</td>\n",
       "      <td>0.683509</td>\n",
       "    </tr>\n",
       "  </tbody>\n",
       "</table>\n",
       "</div>"
      ],
      "text/plain": [
       "          X         Y         W         Z\n",
       "A  2.706850  0.628133  0.907969  0.503826\n",
       "B  0.651118 -0.319318 -0.848077  0.605965\n",
       "C -2.018168  0.740122  0.528813 -0.589001\n",
       "D  0.188695 -0.758872 -0.933237  0.955057\n",
       "E  0.190794  1.978757  2.605967  0.683509"
      ]
     },
     "execution_count": 50,
     "metadata": {},
     "output_type": "execute_result"
    }
   ],
   "source": [
    "df"
   ]
  },
  {
   "cell_type": "code",
   "execution_count": 51,
   "id": "f982cf89",
   "metadata": {},
   "outputs": [],
   "source": [
    "import numpy as np"
   ]
  },
  {
   "cell_type": "code",
   "execution_count": 52,
   "id": "b6b9ad43",
   "metadata": {},
   "outputs": [],
   "source": [
    "list3=[1,2,3,4]"
   ]
  },
  {
   "cell_type": "code",
   "execution_count": 53,
   "id": "6b5b8698",
   "metadata": {},
   "outputs": [
    {
     "data": {
      "text/plain": [
       "list"
      ]
     },
     "execution_count": 53,
     "metadata": {},
     "output_type": "execute_result"
    }
   ],
   "source": [
    "type(list3)"
   ]
  },
  {
   "cell_type": "code",
   "execution_count": 54,
   "id": "831f114b",
   "metadata": {},
   "outputs": [
    {
     "data": {
      "text/plain": [
       "array([1, 2, 3, 4])"
      ]
     },
     "execution_count": 54,
     "metadata": {},
     "output_type": "execute_result"
    }
   ],
   "source": [
    "np.array(list3)"
   ]
  },
  {
   "cell_type": "code",
   "execution_count": 55,
   "id": "a1371acb",
   "metadata": {},
   "outputs": [],
   "source": [
    "#here we converted the list into array"
   ]
  },
  {
   "cell_type": "code",
   "execution_count": 56,
   "id": "7132257b",
   "metadata": {},
   "outputs": [
    {
     "data": {
      "text/plain": [
       "array([[ 1,  2,  3],\n",
       "       [22, 33, 44],\n",
       "       [66, 77, 88]])"
      ]
     },
     "execution_count": 56,
     "metadata": {},
     "output_type": "execute_result"
    }
   ],
   "source": [
    "list4=[[1,2,3],[22,33,44],[66,77,88]]\n",
    "np.array(list4)"
   ]
  },
  {
   "cell_type": "code",
   "execution_count": 57,
   "id": "210c1d28",
   "metadata": {},
   "outputs": [],
   "source": [
    "#here we converted a nested list into array /matrix"
   ]
  },
  {
   "cell_type": "code",
   "execution_count": 58,
   "id": "69e9ed69",
   "metadata": {},
   "outputs": [
    {
     "data": {
      "text/plain": [
       "list"
      ]
     },
     "execution_count": 58,
     "metadata": {},
     "output_type": "execute_result"
    }
   ],
   "source": [
    "type(list4)"
   ]
  },
  {
   "cell_type": "code",
   "execution_count": 59,
   "id": "a736382f",
   "metadata": {},
   "outputs": [
    {
     "data": {
      "text/plain": [
       "[[1, 2, 3], [22, 33, 44], [66, 77, 88]]"
      ]
     },
     "execution_count": 59,
     "metadata": {},
     "output_type": "execute_result"
    }
   ],
   "source": [
    "list4"
   ]
  },
  {
   "cell_type": "code",
   "execution_count": 60,
   "id": "6db2cc73",
   "metadata": {},
   "outputs": [
    {
     "data": {
      "text/plain": [
       "array([[ 1,  2,  3],\n",
       "       [22, 33, 44],\n",
       "       [66, 77, 88]])"
      ]
     },
     "execution_count": 60,
     "metadata": {},
     "output_type": "execute_result"
    }
   ],
   "source": [
    "np.array(list4)"
   ]
  },
  {
   "cell_type": "code",
   "execution_count": 61,
   "id": "fc1211d8",
   "metadata": {},
   "outputs": [
    {
     "data": {
      "text/plain": [
       "numpy.ndarray"
      ]
     },
     "execution_count": 61,
     "metadata": {},
     "output_type": "execute_result"
    }
   ],
   "source": [
    "type(np.array(list4))"
   ]
  },
  {
   "cell_type": "code",
   "execution_count": 63,
   "id": "84b2b733",
   "metadata": {},
   "outputs": [],
   "source": [
    "list4=np.array(list4)"
   ]
  },
  {
   "cell_type": "code",
   "execution_count": 64,
   "id": "69166d07",
   "metadata": {},
   "outputs": [
    {
     "data": {
      "text/plain": [
       "array([[ 1,  2,  3],\n",
       "       [22, 33, 44],\n",
       "       [66, 77, 88]])"
      ]
     },
     "execution_count": 64,
     "metadata": {},
     "output_type": "execute_result"
    }
   ],
   "source": [
    "list4"
   ]
  },
  {
   "cell_type": "code",
   "execution_count": 65,
   "id": "65ac26de",
   "metadata": {},
   "outputs": [
    {
     "data": {
      "text/plain": [
       "2"
      ]
     },
     "execution_count": 65,
     "metadata": {},
     "output_type": "execute_result"
    }
   ],
   "source": [
    "list4.ndim"
   ]
  },
  {
   "cell_type": "code",
   "execution_count": 66,
   "id": "85c9c0c7",
   "metadata": {},
   "outputs": [],
   "source": [
    "#here n means 2 rows and 2 columns in above array"
   ]
  },
  {
   "cell_type": "code",
   "execution_count": 67,
   "id": "c8d485fd",
   "metadata": {},
   "outputs": [
    {
     "data": {
      "text/plain": [
       "(3, 3)"
      ]
     },
     "execution_count": 67,
     "metadata": {},
     "output_type": "execute_result"
    }
   ],
   "source": [
    "list4.shape"
   ]
  },
  {
   "cell_type": "code",
   "execution_count": 68,
   "id": "8392a6d0",
   "metadata": {},
   "outputs": [],
   "source": [
    "# here 3 rows and 3 columns"
   ]
  },
  {
   "cell_type": "markdown",
   "id": "9acdb7c3",
   "metadata": {},
   "source": [
    "# range function"
   ]
  },
  {
   "cell_type": "code",
   "execution_count": 69,
   "id": "bdc29f29",
   "metadata": {},
   "outputs": [
    {
     "name": "stdout",
     "output_type": "stream",
     "text": [
      "0\n",
      "1\n",
      "2\n",
      "3\n",
      "4\n",
      "5\n",
      "6\n",
      "7\n",
      "8\n",
      "9\n"
     ]
    }
   ],
   "source": [
    "for i in range(10):\n",
    "    print(i)"
   ]
  },
  {
   "cell_type": "code",
   "execution_count": 70,
   "id": "d15d8c0d",
   "metadata": {},
   "outputs": [
    {
     "data": {
      "text/plain": [
       "array([ 0,  1,  2,  3,  4,  5,  6,  7,  8,  9, 10, 11, 12, 13, 14, 15, 16,\n",
       "       17, 18, 19, 20, 21, 22, 23, 24])"
      ]
     },
     "execution_count": 70,
     "metadata": {},
     "output_type": "execute_result"
    }
   ],
   "source": [
    "np.arange(0,25)"
   ]
  },
  {
   "cell_type": "code",
   "execution_count": 71,
   "id": "41946ae2",
   "metadata": {},
   "outputs": [],
   "source": [
    "#here the above function  is \"a range\" function, here we give strt and end values "
   ]
  },
  {
   "cell_type": "code",
   "execution_count": 72,
   "id": "6ab6ab0c",
   "metadata": {},
   "outputs": [
    {
     "data": {
      "text/plain": [
       "array([0, 3, 6, 9])"
      ]
     },
     "execution_count": 72,
     "metadata": {},
     "output_type": "execute_result"
    }
   ],
   "source": [
    "np.arange(0,10,3)"
   ]
  },
  {
   "cell_type": "code",
   "execution_count": 73,
   "id": "a7d7563b",
   "metadata": {},
   "outputs": [],
   "source": [
    "# here 3 is step size , that means after first values it will leave 3 values in between "
   ]
  },
  {
   "cell_type": "code",
   "execution_count": 74,
   "id": "5bc054d1",
   "metadata": {},
   "outputs": [],
   "source": [
    "#generate arrays of zeros and ones"
   ]
  },
  {
   "cell_type": "code",
   "execution_count": 75,
   "id": "d715c103",
   "metadata": {},
   "outputs": [],
   "source": [
    "import numpy as np"
   ]
  },
  {
   "cell_type": "code",
   "execution_count": 77,
   "id": "ad99da46",
   "metadata": {},
   "outputs": [
    {
     "data": {
      "text/plain": [
       "array([[0., 0., 0., 0., 0.],\n",
       "       [0., 0., 0., 0., 0.],\n",
       "       [0., 0., 0., 0., 0.],\n",
       "       [0., 0., 0., 0., 0.],\n",
       "       [0., 0., 0., 0., 0.]])"
      ]
     },
     "execution_count": 77,
     "metadata": {},
     "output_type": "execute_result"
    }
   ],
   "source": [
    "np.zeros((5,5))"
   ]
  },
  {
   "cell_type": "code",
   "execution_count": 78,
   "id": "24d3979d",
   "metadata": {},
   "outputs": [],
   "source": [
    "a=np.zeros((5,5))"
   ]
  },
  {
   "cell_type": "code",
   "execution_count": 79,
   "id": "cfe73e13",
   "metadata": {},
   "outputs": [
    {
     "data": {
      "text/plain": [
       "array([[0., 0., 0., 0., 0.],\n",
       "       [0., 0., 0., 0., 0.],\n",
       "       [0., 0., 0., 0., 0.],\n",
       "       [0., 0., 0., 0., 0.],\n",
       "       [0., 0., 0., 0., 0.]])"
      ]
     },
     "execution_count": 79,
     "metadata": {},
     "output_type": "execute_result"
    }
   ],
   "source": [
    "a"
   ]
  },
  {
   "cell_type": "code",
   "execution_count": 80,
   "id": "94568ee2",
   "metadata": {},
   "outputs": [
    {
     "data": {
      "text/plain": [
       "(5, 5)"
      ]
     },
     "execution_count": 80,
     "metadata": {},
     "output_type": "execute_result"
    }
   ],
   "source": [
    "a.shape"
   ]
  },
  {
   "cell_type": "code",
   "execution_count": 81,
   "id": "ea5f5984",
   "metadata": {},
   "outputs": [
    {
     "data": {
      "text/plain": [
       "array([1., 1., 1., 1.])"
      ]
     },
     "execution_count": 81,
     "metadata": {},
     "output_type": "execute_result"
    }
   ],
   "source": [
    "np.ones(4)"
   ]
  },
  {
   "cell_type": "code",
   "execution_count": 83,
   "id": "b5754bf0",
   "metadata": {},
   "outputs": [
    {
     "data": {
      "text/plain": [
       "array([[1., 1., 1., 1.],\n",
       "       [1., 1., 1., 1.],\n",
       "       [1., 1., 1., 1.],\n",
       "       [1., 1., 1., 1.]])"
      ]
     },
     "execution_count": 83,
     "metadata": {},
     "output_type": "execute_result"
    }
   ],
   "source": [
    "np.ones((4,4))"
   ]
  },
  {
   "cell_type": "code",
   "execution_count": 84,
   "id": "9b8c1953",
   "metadata": {},
   "outputs": [],
   "source": [
    "b=np.ones((4,4))"
   ]
  },
  {
   "cell_type": "code",
   "execution_count": 85,
   "id": "3fb36d94",
   "metadata": {},
   "outputs": [
    {
     "data": {
      "text/plain": [
       "array([[1., 1., 1., 1.],\n",
       "       [1., 1., 1., 1.],\n",
       "       [1., 1., 1., 1.],\n",
       "       [1., 1., 1., 1.]])"
      ]
     },
     "execution_count": 85,
     "metadata": {},
     "output_type": "execute_result"
    }
   ],
   "source": [
    "b"
   ]
  },
  {
   "cell_type": "code",
   "execution_count": 86,
   "id": "b2bf55a1",
   "metadata": {},
   "outputs": [],
   "source": [
    "#linespace - genearte nos with equal spaced intervals"
   ]
  },
  {
   "cell_type": "code",
   "execution_count": 87,
   "id": "97486731",
   "metadata": {},
   "outputs": [
    {
     "data": {
      "text/plain": [
       "array([ 0.        ,  0.20408163,  0.40816327,  0.6122449 ,  0.81632653,\n",
       "        1.02040816,  1.2244898 ,  1.42857143,  1.63265306,  1.83673469,\n",
       "        2.04081633,  2.24489796,  2.44897959,  2.65306122,  2.85714286,\n",
       "        3.06122449,  3.26530612,  3.46938776,  3.67346939,  3.87755102,\n",
       "        4.08163265,  4.28571429,  4.48979592,  4.69387755,  4.89795918,\n",
       "        5.10204082,  5.30612245,  5.51020408,  5.71428571,  5.91836735,\n",
       "        6.12244898,  6.32653061,  6.53061224,  6.73469388,  6.93877551,\n",
       "        7.14285714,  7.34693878,  7.55102041,  7.75510204,  7.95918367,\n",
       "        8.16326531,  8.36734694,  8.57142857,  8.7755102 ,  8.97959184,\n",
       "        9.18367347,  9.3877551 ,  9.59183673,  9.79591837, 10.        ])"
      ]
     },
     "execution_count": 87,
     "metadata": {},
     "output_type": "execute_result"
    }
   ],
   "source": [
    "np.linspace(0,10,50)"
   ]
  },
  {
   "cell_type": "code",
   "execution_count": 88,
   "id": "96e481ed",
   "metadata": {},
   "outputs": [],
   "source": [
    "#eye - identity matrix"
   ]
  },
  {
   "cell_type": "code",
   "execution_count": 89,
   "id": "0248ca02",
   "metadata": {},
   "outputs": [
    {
     "data": {
      "text/plain": [
       "array([[1., 0., 0., 0., 0.],\n",
       "       [0., 1., 0., 0., 0.],\n",
       "       [0., 0., 1., 0., 0.],\n",
       "       [0., 0., 0., 1., 0.],\n",
       "       [0., 0., 0., 0., 1.]])"
      ]
     },
     "execution_count": 89,
     "metadata": {},
     "output_type": "execute_result"
    }
   ],
   "source": [
    "np.eye(5)"
   ]
  },
  {
   "cell_type": "code",
   "execution_count": 90,
   "id": "4a7e444a",
   "metadata": {},
   "outputs": [],
   "source": [
    "#gen random nos using randn function"
   ]
  },
  {
   "cell_type": "code",
   "execution_count": 92,
   "id": "8e24f436",
   "metadata": {},
   "outputs": [
    {
     "data": {
      "text/plain": [
       "array([[0.94926413, 0.47816742, 0.46111934, 0.63728903, 0.324608  ],\n",
       "       [0.11757809, 0.051101  , 0.63765865, 0.81226589, 0.67026042],\n",
       "       [0.6517677 , 0.42456894, 0.65659534, 0.2091615 , 0.65992452],\n",
       "       [0.5296234 , 0.74852037, 0.09375686, 0.78452185, 0.68724204],\n",
       "       [0.6950785 , 0.49686652, 0.97536113, 0.20352762, 0.29902041]])"
      ]
     },
     "execution_count": 92,
     "metadata": {},
     "output_type": "execute_result"
    }
   ],
   "source": [
    "np.random.rand(5,5)"
   ]
  },
  {
   "cell_type": "code",
   "execution_count": 93,
   "id": "cd2a7a3a",
   "metadata": {},
   "outputs": [],
   "source": [
    "a=np.random.rand(5,5)"
   ]
  },
  {
   "cell_type": "code",
   "execution_count": 94,
   "id": "bf3df510",
   "metadata": {},
   "outputs": [
    {
     "data": {
      "text/plain": [
       "2"
      ]
     },
     "execution_count": 94,
     "metadata": {},
     "output_type": "execute_result"
    }
   ],
   "source": [
    "a.ndim"
   ]
  },
  {
   "cell_type": "code",
   "execution_count": 95,
   "id": "2f2cded7",
   "metadata": {},
   "outputs": [
    {
     "data": {
      "text/plain": [
       "array([-0.1565979 , -0.85519604,  1.54199041,  0.66631932, -0.53823463])"
      ]
     },
     "execution_count": 95,
     "metadata": {},
     "output_type": "execute_result"
    }
   ],
   "source": [
    "np.random.randn(5)"
   ]
  },
  {
   "cell_type": "code",
   "execution_count": 96,
   "id": "7488e59a",
   "metadata": {},
   "outputs": [
    {
     "data": {
      "text/plain": [
       "array([[-0.56858136,  1.40733825,  0.64180551, -0.9050999 , -0.39115663],\n",
       "       [ 1.02829316, -1.9726051 , -0.86688504,  0.7207876 , -1.22308204],\n",
       "       [ 1.60677986, -1.11570997, -1.38537856, -1.32966006,  0.04145994],\n",
       "       [-0.4110554 , -0.7713286 ,  0.11047741, -0.80465151,  0.25354804],\n",
       "       [ 0.64914775,  0.35894053, -1.08047146,  0.90239776,  0.16178119]])"
      ]
     },
     "execution_count": 96,
     "metadata": {},
     "output_type": "execute_result"
    }
   ],
   "source": [
    "np.random.randn(5,5)"
   ]
  },
  {
   "cell_type": "code",
   "execution_count": 97,
   "id": "c4aa3049",
   "metadata": {},
   "outputs": [],
   "source": [
    "#randint"
   ]
  },
  {
   "cell_type": "code",
   "execution_count": 98,
   "id": "50adc148",
   "metadata": {},
   "outputs": [
    {
     "data": {
      "text/plain": [
       "35"
      ]
     },
     "execution_count": 98,
     "metadata": {},
     "output_type": "execute_result"
    }
   ],
   "source": [
    "np.random.randint(100)"
   ]
  },
  {
   "cell_type": "code",
   "execution_count": 99,
   "id": "ad810e43",
   "metadata": {},
   "outputs": [
    {
     "data": {
      "text/plain": [
       "25"
      ]
     },
     "execution_count": 99,
     "metadata": {},
     "output_type": "execute_result"
    }
   ],
   "source": [
    "np.random.randint(100)"
   ]
  },
  {
   "cell_type": "code",
   "execution_count": 100,
   "id": "2afa4983",
   "metadata": {},
   "outputs": [],
   "source": [
    "#here random integars are displayed in range upto 100"
   ]
  },
  {
   "cell_type": "code",
   "execution_count": 102,
   "id": "d9e2411a",
   "metadata": {},
   "outputs": [
    {
     "data": {
      "text/plain": [
       "array([96, 76, 73, 12, 77, 80, 51, 23, 60, 67,  2, 35, 38, 58, 36, 43, 45,\n",
       "       50, 32, 80, 86,  4, 56, 74, 94, 95, 41, 55, 89, 95, 87, 18, 69, 18,\n",
       "       19, 61, 84, 83,  8, 68, 35, 77, 95, 21, 70, 74, 60, 35, 70, 26, 79,\n",
       "       93, 75, 76, 34, 10, 44, 21, 83, 31,  4, 47, 30, 48, 28, 82, 72, 26,\n",
       "       95, 58, 22, 30,  7, 55, 48, 48, 61,  7, 76, 98, 54, 45, 99, 40, 33,\n",
       "       88, 79, 22, 91, 15, 21,  2, 71, 26, 46, 97, 33, 32, 42, 80, 88, 23,\n",
       "       95, 47, 72, 25, 42, 37, 32, 17, 88, 23, 97,  4, 13, 72, 10, 88, 96,\n",
       "       40, 65, 63, 89, 77, 94, 84, 96, 69, 70, 60, 53,  8, 41, 74, 87, 15,\n",
       "       50, 98, 26, 58, 41, 18, 33, 84, 98, 28, 48, 14, 71, 16, 93, 19, 95,\n",
       "       49, 66, 83, 35,  6, 47, 84, 28, 27, 21, 88, 85, 18, 60, 65, 45,  5,\n",
       "       52, 50, 75, 83, 38, 54, 94, 74,  6, 38, 57, 36, 16, 41, 43, 72, 38,\n",
       "       47, 72, 92, 98, 37, 44, 28, 67, 58,  4, 56, 71, 42])"
      ]
     },
     "execution_count": 102,
     "metadata": {},
     "output_type": "execute_result"
    }
   ],
   "source": [
    "np.random.randint(1,100,200)"
   ]
  },
  {
   "cell_type": "code",
   "execution_count": 103,
   "id": "758d3cbd",
   "metadata": {},
   "outputs": [],
   "source": [
    "#here array displays random nos(duplicate also) ranges from 1 to 100 and it has 200 values"
   ]
  },
  {
   "cell_type": "code",
   "execution_count": 104,
   "id": "4e6623f7",
   "metadata": {},
   "outputs": [
    {
     "data": {
      "text/plain": [
       "68"
      ]
     },
     "execution_count": 104,
     "metadata": {},
     "output_type": "execute_result"
    }
   ],
   "source": [
    "np.random.randint(1,100)"
   ]
  },
  {
   "cell_type": "markdown",
   "id": "dbcd83ef",
   "metadata": {},
   "source": [
    "# array attributes and methods"
   ]
  },
  {
   "cell_type": "code",
   "execution_count": 107,
   "id": "f1faff80",
   "metadata": {},
   "outputs": [],
   "source": [
    "#arr"
   ]
  },
  {
   "cell_type": "code",
   "execution_count": 110,
   "id": "d5c39c68",
   "metadata": {},
   "outputs": [],
   "source": [
    "arr = np.arange(25)"
   ]
  },
  {
   "cell_type": "code",
   "execution_count": 111,
   "id": "532e4867",
   "metadata": {},
   "outputs": [],
   "source": [
    "#here we have used \" a range\"  "
   ]
  },
  {
   "cell_type": "code",
   "execution_count": 112,
   "id": "adb26d1c",
   "metadata": {},
   "outputs": [
    {
     "data": {
      "text/plain": [
       "array([ 0,  1,  2,  3,  4,  5,  6,  7,  8,  9, 10, 11, 12, 13, 14, 15, 16,\n",
       "       17, 18, 19, 20, 21, 22, 23, 24])"
      ]
     },
     "execution_count": 112,
     "metadata": {},
     "output_type": "execute_result"
    }
   ],
   "source": [
    "arr"
   ]
  },
  {
   "cell_type": "code",
   "execution_count": 113,
   "id": "502d9574",
   "metadata": {},
   "outputs": [
    {
     "data": {
      "text/plain": [
       "array([73, 89, 68, 76, 70, 93, 21, 16, 58, 10, 70, 98, 92, 52, 55, 46, 39,\n",
       "       16, 43, 62,  9,  4, 89, 73, 42])"
      ]
     },
     "execution_count": 113,
     "metadata": {},
     "output_type": "execute_result"
    }
   ],
   "source": [
    "np.random.randint(1,100,25)"
   ]
  },
  {
   "cell_type": "code",
   "execution_count": 114,
   "id": "f9e32a40",
   "metadata": {},
   "outputs": [
    {
     "data": {
      "text/plain": [
       "array([20, 12, 17,  6, 11,  3, 19,  3, 15, 15])"
      ]
     },
     "execution_count": 114,
     "metadata": {},
     "output_type": "execute_result"
    }
   ],
   "source": [
    "np.random.randint(1,25,10)"
   ]
  },
  {
   "cell_type": "code",
   "execution_count": 115,
   "id": "4dbb2d96",
   "metadata": {},
   "outputs": [],
   "source": [
    "#here this displays random integers in array from 1 to 25  ,total 10 values"
   ]
  },
  {
   "cell_type": "code",
   "execution_count": 116,
   "id": "882a2a11",
   "metadata": {},
   "outputs": [
    {
     "data": {
      "text/plain": [
       "array([[ 0,  1,  2,  3,  4],\n",
       "       [ 5,  6,  7,  8,  9],\n",
       "       [10, 11, 12, 13, 14],\n",
       "       [15, 16, 17, 18, 19],\n",
       "       [20, 21, 22, 23, 24]])"
      ]
     },
     "execution_count": 116,
     "metadata": {},
     "output_type": "execute_result"
    }
   ],
   "source": [
    "arr.reshape(5,5)"
   ]
  },
  {
   "cell_type": "code",
   "execution_count": 117,
   "id": "b511058d",
   "metadata": {},
   "outputs": [],
   "source": [
    "# RESHAPE"
   ]
  },
  {
   "cell_type": "code",
   "execution_count": 118,
   "id": "ffd077aa",
   "metadata": {},
   "outputs": [
    {
     "data": {
      "text/plain": [
       "numpy.ndarray"
      ]
     },
     "execution_count": 118,
     "metadata": {},
     "output_type": "execute_result"
    }
   ],
   "source": [
    "type(arr)"
   ]
  },
  {
   "cell_type": "markdown",
   "id": "85fc3a5c",
   "metadata": {},
   "source": [
    "# max min, argmax argmin"
   ]
  },
  {
   "cell_type": "code",
   "execution_count": 123,
   "id": "a2694b37",
   "metadata": {},
   "outputs": [],
   "source": [
    "arr1=np.random.randint(1,30,5)"
   ]
  },
  {
   "cell_type": "code",
   "execution_count": 124,
   "id": "3253b43f",
   "metadata": {},
   "outputs": [
    {
     "data": {
      "text/plain": [
       "array([22, 15, 15, 28,  5])"
      ]
     },
     "execution_count": 124,
     "metadata": {},
     "output_type": "execute_result"
    }
   ],
   "source": [
    "arr1"
   ]
  },
  {
   "cell_type": "code",
   "execution_count": 125,
   "id": "7c5714b8",
   "metadata": {},
   "outputs": [
    {
     "data": {
      "text/plain": [
       "5"
      ]
     },
     "execution_count": 125,
     "metadata": {},
     "output_type": "execute_result"
    }
   ],
   "source": [
    "arr1.min()"
   ]
  },
  {
   "cell_type": "code",
   "execution_count": 126,
   "id": "549025f3",
   "metadata": {},
   "outputs": [
    {
     "data": {
      "text/plain": [
       "4"
      ]
     },
     "execution_count": 126,
     "metadata": {},
     "output_type": "execute_result"
    }
   ],
   "source": [
    "arr1.argmin()"
   ]
  },
  {
   "cell_type": "code",
   "execution_count": 127,
   "id": "c175a4a5",
   "metadata": {},
   "outputs": [],
   "source": [
    "#here argmin() gives index value, whereas min() gives value"
   ]
  },
  {
   "cell_type": "code",
   "execution_count": 128,
   "id": "a7032c3d",
   "metadata": {},
   "outputs": [
    {
     "data": {
      "text/plain": [
       "28"
      ]
     },
     "execution_count": 128,
     "metadata": {},
     "output_type": "execute_result"
    }
   ],
   "source": [
    "arr1.max()"
   ]
  },
  {
   "cell_type": "code",
   "execution_count": 129,
   "id": "16815481",
   "metadata": {},
   "outputs": [
    {
     "data": {
      "text/plain": [
       "3"
      ]
     },
     "execution_count": 129,
     "metadata": {},
     "output_type": "execute_result"
    }
   ],
   "source": [
    "arr1.argmax()"
   ]
  },
  {
   "cell_type": "code",
   "execution_count": 130,
   "id": "43a52436",
   "metadata": {},
   "outputs": [
    {
     "data": {
      "text/plain": [
       "(5,)"
      ]
     },
     "execution_count": 130,
     "metadata": {},
     "output_type": "execute_result"
    }
   ],
   "source": [
    "arr1.shape"
   ]
  },
  {
   "cell_type": "code",
   "execution_count": 132,
   "id": "bfab1ed2",
   "metadata": {},
   "outputs": [
    {
     "data": {
      "text/plain": [
       "array([[22, 15, 15, 28,  5]])"
      ]
     },
     "execution_count": 132,
     "metadata": {},
     "output_type": "execute_result"
    }
   ],
   "source": [
    "arr1.reshape(1,5)"
   ]
  },
  {
   "cell_type": "code",
   "execution_count": 133,
   "id": "eb98a322",
   "metadata": {},
   "outputs": [],
   "source": [
    "arr2=arr1.reshape(1,5)"
   ]
  },
  {
   "cell_type": "code",
   "execution_count": 134,
   "id": "c9a0c449",
   "metadata": {},
   "outputs": [
    {
     "data": {
      "text/plain": [
       "array([[22, 15, 15, 28,  5]])"
      ]
     },
     "execution_count": 134,
     "metadata": {},
     "output_type": "execute_result"
    }
   ],
   "source": [
    "arr2"
   ]
  },
  {
   "cell_type": "code",
   "execution_count": 135,
   "id": "b2341ebc",
   "metadata": {},
   "outputs": [
    {
     "data": {
      "text/plain": [
       "(1, 5)"
      ]
     },
     "execution_count": 135,
     "metadata": {},
     "output_type": "execute_result"
    }
   ],
   "source": [
    "arr2.shape"
   ]
  },
  {
   "cell_type": "code",
   "execution_count": 136,
   "id": "80dbf969",
   "metadata": {},
   "outputs": [
    {
     "data": {
      "text/plain": [
       "array([[22],\n",
       "       [15],\n",
       "       [15],\n",
       "       [28],\n",
       "       [ 5]])"
      ]
     },
     "execution_count": 136,
     "metadata": {},
     "output_type": "execute_result"
    }
   ],
   "source": [
    "arr2.reshape(5,1)"
   ]
  },
  {
   "cell_type": "code",
   "execution_count": 140,
   "id": "bd6af9ea",
   "metadata": {},
   "outputs": [
    {
     "data": {
      "text/plain": [
       "array([22, 15, 15, 28,  5])"
      ]
     },
     "execution_count": 140,
     "metadata": {},
     "output_type": "execute_result"
    }
   ],
   "source": [
    "arr1"
   ]
  },
  {
   "cell_type": "code",
   "execution_count": 141,
   "id": "85579c03",
   "metadata": {},
   "outputs": [
    {
     "data": {
      "text/plain": [
       "15"
      ]
     },
     "execution_count": 141,
     "metadata": {},
     "output_type": "execute_result"
    }
   ],
   "source": [
    "arr1[2]"
   ]
  },
  {
   "cell_type": "code",
   "execution_count": 142,
   "id": "cfd90e32",
   "metadata": {},
   "outputs": [
    {
     "data": {
      "text/plain": [
       "array([15, 15, 28])"
      ]
     },
     "execution_count": 142,
     "metadata": {},
     "output_type": "execute_result"
    }
   ],
   "source": [
    "arr1[1:4]"
   ]
  },
  {
   "cell_type": "code",
   "execution_count": 143,
   "id": "2099dda4",
   "metadata": {},
   "outputs": [
    {
     "data": {
      "text/plain": [
       "array([22, 15, 15, 28,  5])"
      ]
     },
     "execution_count": 143,
     "metadata": {},
     "output_type": "execute_result"
    }
   ],
   "source": [
    "arr1[:]"
   ]
  },
  {
   "cell_type": "code",
   "execution_count": 144,
   "id": "412b545e",
   "metadata": {},
   "outputs": [],
   "source": [
    "#here we did bracket indexing from array"
   ]
  },
  {
   "cell_type": "markdown",
   "id": "a6f7e414",
   "metadata": {},
   "source": [
    "# broadcasting"
   ]
  },
  {
   "cell_type": "code",
   "execution_count": 145,
   "id": "9ebf3b60",
   "metadata": {},
   "outputs": [],
   "source": [
    "#setting a fixed vlue for a particular range in an array"
   ]
  },
  {
   "cell_type": "code",
   "execution_count": 146,
   "id": "6d5289ab",
   "metadata": {},
   "outputs": [],
   "source": [
    "arr1[1:4]=500"
   ]
  },
  {
   "cell_type": "code",
   "execution_count": 147,
   "id": "65ab4d40",
   "metadata": {},
   "outputs": [
    {
     "data": {
      "text/plain": [
       "array([ 22, 500, 500, 500,   5])"
      ]
     },
     "execution_count": 147,
     "metadata": {},
     "output_type": "execute_result"
    }
   ],
   "source": [
    "arr1"
   ]
  },
  {
   "cell_type": "code",
   "execution_count": 161,
   "id": "debb502d",
   "metadata": {},
   "outputs": [
    {
     "data": {
      "text/plain": [
       "array([99, 99, 99])"
      ]
     },
     "execution_count": 161,
     "metadata": {},
     "output_type": "execute_result"
    }
   ],
   "source": [
    "arr1[0:3]"
   ]
  },
  {
   "cell_type": "code",
   "execution_count": 158,
   "id": "d9cad4a7",
   "metadata": {},
   "outputs": [
    {
     "data": {
      "text/plain": [
       "array([99, 99, 99])"
      ]
     },
     "execution_count": 158,
     "metadata": {},
     "output_type": "execute_result"
    }
   ],
   "source": [
    "arr1[:]=99"
   ]
  },
  {
   "cell_type": "code",
   "execution_count": 151,
   "id": "962bc3c7",
   "metadata": {},
   "outputs": [
    {
     "data": {
      "text/plain": [
       "array([99, 99, 99, 99, 99])"
      ]
     },
     "execution_count": 151,
     "metadata": {},
     "output_type": "execute_result"
    }
   ],
   "source": [
    "arr1"
   ]
  },
  {
   "cell_type": "code",
   "execution_count": 152,
   "id": "8973632d",
   "metadata": {},
   "outputs": [],
   "source": [
    "#note chnges occure in original array"
   ]
  },
  {
   "cell_type": "code",
   "execution_count": 162,
   "id": "5cbe98a3",
   "metadata": {},
   "outputs": [],
   "source": [
    "#use .copy to store values"
   ]
  },
  {
   "cell_type": "code",
   "execution_count": 163,
   "id": "110469f1",
   "metadata": {},
   "outputs": [],
   "source": [
    "arrcopy=arr1.copy()"
   ]
  },
  {
   "cell_type": "code",
   "execution_count": 164,
   "id": "2db43bc7",
   "metadata": {},
   "outputs": [
    {
     "data": {
      "text/plain": [
       "array([99, 99, 99, 99, 99])"
      ]
     },
     "execution_count": 164,
     "metadata": {},
     "output_type": "execute_result"
    }
   ],
   "source": [
    "arrcopy"
   ]
  },
  {
   "cell_type": "markdown",
   "id": "3ddc761e",
   "metadata": {},
   "source": [
    "# array 2d indexing"
   ]
  },
  {
   "cell_type": "code",
   "execution_count": 165,
   "id": "c8f8ec2f",
   "metadata": {},
   "outputs": [],
   "source": [
    "arr2d=np.array([[20,12,4],[20,45,67],[43,89,60]])"
   ]
  },
  {
   "cell_type": "code",
   "execution_count": 166,
   "id": "24cc5e47",
   "metadata": {},
   "outputs": [
    {
     "data": {
      "text/plain": [
       "array([[20, 12,  4],\n",
       "       [20, 45, 67],\n",
       "       [43, 89, 60]])"
      ]
     },
     "execution_count": 166,
     "metadata": {},
     "output_type": "execute_result"
    }
   ],
   "source": [
    "arr2d"
   ]
  },
  {
   "cell_type": "code",
   "execution_count": 167,
   "id": "a5558e05",
   "metadata": {},
   "outputs": [
    {
     "data": {
      "text/plain": [
       "array([20, 45, 67])"
      ]
     },
     "execution_count": 167,
     "metadata": {},
     "output_type": "execute_result"
    }
   ],
   "source": [
    "arr2d[1]"
   ]
  },
  {
   "cell_type": "code",
   "execution_count": 168,
   "id": "af1af4f9",
   "metadata": {},
   "outputs": [
    {
     "data": {
      "text/plain": [
       "67"
      ]
     },
     "execution_count": 168,
     "metadata": {},
     "output_type": "execute_result"
    }
   ],
   "source": [
    "arr2d[1][2]"
   ]
  },
  {
   "cell_type": "code",
   "execution_count": 169,
   "id": "54045da5",
   "metadata": {},
   "outputs": [],
   "source": [
    "#we are indexing row 1 and in that 2nd element"
   ]
  },
  {
   "cell_type": "code",
   "execution_count": 174,
   "id": "35421c80",
   "metadata": {},
   "outputs": [
    {
     "data": {
      "text/plain": [
       "array([[12,  4],\n",
       "       [45, 67]])"
      ]
     },
     "execution_count": 174,
     "metadata": {},
     "output_type": "execute_result"
    }
   ],
   "source": [
    "arr2d[:2,1:]"
   ]
  },
  {
   "cell_type": "code",
   "execution_count": 172,
   "id": "540e7fa8",
   "metadata": {},
   "outputs": [],
   "source": [
    "#here :2 means strt from begingining upto 2nd row (0 to 2 range means oth row and 1st row eliminte 2nd row)"
   ]
  },
  {
   "cell_type": "code",
   "execution_count": 175,
   "id": "1e7f6cb5",
   "metadata": {},
   "outputs": [],
   "source": [
    "#here 1: means strt from 1st column and end with last column( 1 tp last means from 0 column will eliminate )"
   ]
  },
  {
   "cell_type": "code",
   "execution_count": 176,
   "id": "57c35332",
   "metadata": {},
   "outputs": [
    {
     "data": {
      "text/plain": [
       "array([[20, 12,  4],\n",
       "       [20, 45, 67]])"
      ]
     },
     "execution_count": 176,
     "metadata": {},
     "output_type": "execute_result"
    }
   ],
   "source": [
    "arr2d[:2,0:]"
   ]
  },
  {
   "cell_type": "code",
   "execution_count": 179,
   "id": "bfe769fc",
   "metadata": {},
   "outputs": [
    {
     "data": {
      "text/plain": [
       "array([[ 4],\n",
       "       [67],\n",
       "       [60]])"
      ]
     },
     "execution_count": 179,
     "metadata": {},
     "output_type": "execute_result"
    }
   ],
   "source": [
    "arr2d[:3,2:]"
   ]
  },
  {
   "cell_type": "code",
   "execution_count": 180,
   "id": "fa785174",
   "metadata": {},
   "outputs": [
    {
     "data": {
      "text/plain": [
       "array([43, 89, 60])"
      ]
     },
     "execution_count": 180,
     "metadata": {},
     "output_type": "execute_result"
    }
   ],
   "source": [
    "arr2d[2]"
   ]
  },
  {
   "cell_type": "code",
   "execution_count": 181,
   "id": "c1937179",
   "metadata": {},
   "outputs": [
    {
     "data": {
      "text/plain": [
       "array([43, 89, 60])"
      ]
     },
     "execution_count": 181,
     "metadata": {},
     "output_type": "execute_result"
    }
   ],
   "source": [
    "arr2d[2,:]"
   ]
  },
  {
   "cell_type": "markdown",
   "id": "de25ebac",
   "metadata": {},
   "source": [
    "# fancy indexing"
   ]
  },
  {
   "cell_type": "code",
   "execution_count": 186,
   "id": "a283e0ec",
   "metadata": {},
   "outputs": [],
   "source": [
    "arr_2d=np.zeros((10,10))"
   ]
  },
  {
   "cell_type": "raw",
   "id": "ff6cf4da",
   "metadata": {},
   "source": []
  },
  {
   "cell_type": "code",
   "execution_count": 187,
   "id": "dcdade9c",
   "metadata": {},
   "outputs": [
    {
     "data": {
      "text/plain": [
       "array([[0., 0., 0., 0., 0., 0., 0., 0., 0., 0.],\n",
       "       [0., 0., 0., 0., 0., 0., 0., 0., 0., 0.],\n",
       "       [0., 0., 0., 0., 0., 0., 0., 0., 0., 0.],\n",
       "       [0., 0., 0., 0., 0., 0., 0., 0., 0., 0.],\n",
       "       [0., 0., 0., 0., 0., 0., 0., 0., 0., 0.],\n",
       "       [0., 0., 0., 0., 0., 0., 0., 0., 0., 0.],\n",
       "       [0., 0., 0., 0., 0., 0., 0., 0., 0., 0.],\n",
       "       [0., 0., 0., 0., 0., 0., 0., 0., 0., 0.],\n",
       "       [0., 0., 0., 0., 0., 0., 0., 0., 0., 0.],\n",
       "       [0., 0., 0., 0., 0., 0., 0., 0., 0., 0.]])"
      ]
     },
     "execution_count": 187,
     "metadata": {},
     "output_type": "execute_result"
    }
   ],
   "source": [
    "arr_2d"
   ]
  },
  {
   "cell_type": "code",
   "execution_count": 189,
   "id": "75e41456",
   "metadata": {},
   "outputs": [
    {
     "data": {
      "text/plain": [
       "10"
      ]
     },
     "execution_count": 189,
     "metadata": {},
     "output_type": "execute_result"
    }
   ],
   "source": [
    "arr_2d.shape[1]"
   ]
  },
  {
   "cell_type": "code",
   "execution_count": 191,
   "id": "a6b55ba5",
   "metadata": {},
   "outputs": [],
   "source": [
    "length_arr=arr_2d.shape[1]"
   ]
  },
  {
   "cell_type": "code",
   "execution_count": 192,
   "id": "324632c3",
   "metadata": {},
   "outputs": [
    {
     "data": {
      "text/plain": [
       "10"
      ]
     },
     "execution_count": 192,
     "metadata": {},
     "output_type": "execute_result"
    }
   ],
   "source": [
    "length_arr"
   ]
  },
  {
   "cell_type": "code",
   "execution_count": 194,
   "id": "e4f28938",
   "metadata": {},
   "outputs": [],
   "source": [
    "for i in range(length_arr):\n",
    "    arr_2d[i]=i"
   ]
  },
  {
   "cell_type": "code",
   "execution_count": 195,
   "id": "c922eb9b",
   "metadata": {},
   "outputs": [
    {
     "data": {
      "text/plain": [
       "array([[0., 0., 0., 0., 0., 0., 0., 0., 0., 0.],\n",
       "       [1., 1., 1., 1., 1., 1., 1., 1., 1., 1.],\n",
       "       [2., 2., 2., 2., 2., 2., 2., 2., 2., 2.],\n",
       "       [3., 3., 3., 3., 3., 3., 3., 3., 3., 3.],\n",
       "       [4., 4., 4., 4., 4., 4., 4., 4., 4., 4.],\n",
       "       [5., 5., 5., 5., 5., 5., 5., 5., 5., 5.],\n",
       "       [6., 6., 6., 6., 6., 6., 6., 6., 6., 6.],\n",
       "       [7., 7., 7., 7., 7., 7., 7., 7., 7., 7.],\n",
       "       [8., 8., 8., 8., 8., 8., 8., 8., 8., 8.],\n",
       "       [9., 9., 9., 9., 9., 9., 9., 9., 9., 9.]])"
      ]
     },
     "execution_count": 195,
     "metadata": {},
     "output_type": "execute_result"
    }
   ],
   "source": [
    "arr_2d"
   ]
  },
  {
   "cell_type": "code",
   "execution_count": 196,
   "id": "e827a390",
   "metadata": {},
   "outputs": [
    {
     "data": {
      "text/plain": [
       "array([[2., 2., 2., 2., 2., 2., 2., 2., 2., 2.],\n",
       "       [6., 6., 6., 6., 6., 6., 6., 6., 6., 6.],\n",
       "       [4., 4., 4., 4., 4., 4., 4., 4., 4., 4.]])"
      ]
     },
     "execution_count": 196,
     "metadata": {},
     "output_type": "execute_result"
    }
   ],
   "source": [
    "arr_2d[[2,6,4]]"
   ]
  },
  {
   "cell_type": "code",
   "execution_count": 197,
   "id": "d4977a6b",
   "metadata": {},
   "outputs": [
    {
     "data": {
      "text/plain": [
       "array([[1., 1., 1., 1., 1., 1., 1., 1., 1., 1.],\n",
       "       [0., 0., 0., 0., 0., 0., 0., 0., 0., 0.],\n",
       "       [8., 8., 8., 8., 8., 8., 8., 8., 8., 8.]])"
      ]
     },
     "execution_count": 197,
     "metadata": {},
     "output_type": "execute_result"
    }
   ],
   "source": [
    "arr_2d[[1,0,8]]"
   ]
  },
  {
   "cell_type": "code",
   "execution_count": 200,
   "id": "3999daf9",
   "metadata": {},
   "outputs": [],
   "source": [
    "arr3=np.arange(0,10)"
   ]
  },
  {
   "cell_type": "raw",
   "id": "e3fb6110",
   "metadata": {},
   "source": []
  },
  {
   "cell_type": "code",
   "execution_count": 201,
   "id": "a5685031",
   "metadata": {},
   "outputs": [
    {
     "data": {
      "text/plain": [
       "array([0, 1, 2, 3, 4, 5, 6, 7, 8, 9])"
      ]
     },
     "execution_count": 201,
     "metadata": {},
     "output_type": "execute_result"
    }
   ],
   "source": [
    "arr3"
   ]
  },
  {
   "cell_type": "code",
   "execution_count": 202,
   "id": "b33ee6f9",
   "metadata": {},
   "outputs": [
    {
     "data": {
      "text/plain": [
       "array([False, False, False, False, False,  True,  True,  True,  True,\n",
       "        True])"
      ]
     },
     "execution_count": 202,
     "metadata": {},
     "output_type": "execute_result"
    }
   ],
   "source": [
    "arr3 > 4"
   ]
  },
  {
   "cell_type": "code",
   "execution_count": 203,
   "id": "391d7d6b",
   "metadata": {},
   "outputs": [],
   "source": [
    "bool_arr3=arr3 > 4"
   ]
  },
  {
   "cell_type": "code",
   "execution_count": 204,
   "id": "da9e7991",
   "metadata": {},
   "outputs": [
    {
     "data": {
      "text/plain": [
       "array([False, False, False, False, False,  True,  True,  True,  True,\n",
       "        True])"
      ]
     },
     "execution_count": 204,
     "metadata": {},
     "output_type": "execute_result"
    }
   ],
   "source": [
    "bool_arr3"
   ]
  },
  {
   "cell_type": "code",
   "execution_count": 207,
   "id": "4637171c",
   "metadata": {},
   "outputs": [
    {
     "data": {
      "text/plain": [
       "array([5, 6, 7, 8, 9])"
      ]
     },
     "execution_count": 207,
     "metadata": {},
     "output_type": "execute_result"
    }
   ],
   "source": [
    "arr3[bool_arr3]"
   ]
  },
  {
   "cell_type": "code",
   "execution_count": 208,
   "id": "006ca7d0",
   "metadata": {},
   "outputs": [
    {
     "data": {
      "text/plain": [
       "array([3, 4, 5, 6, 7, 8, 9])"
      ]
     },
     "execution_count": 208,
     "metadata": {},
     "output_type": "execute_result"
    }
   ],
   "source": [
    "arr3[arr3>2]"
   ]
  },
  {
   "cell_type": "code",
   "execution_count": 209,
   "id": "8d5860e0",
   "metadata": {},
   "outputs": [
    {
     "data": {
      "text/plain": [
       "array([6, 7, 8, 9])"
      ]
     },
     "execution_count": 209,
     "metadata": {},
     "output_type": "execute_result"
    }
   ],
   "source": [
    "x=5\n",
    "arr3[arr3>x]"
   ]
  },
  {
   "cell_type": "markdown",
   "id": "7d73b626",
   "metadata": {},
   "source": [
    "# Performing Hstack and Vstack"
   ]
  },
  {
   "cell_type": "code",
   "execution_count": 7,
   "id": "9524a72c",
   "metadata": {},
   "outputs": [
    {
     "name": "stdout",
     "output_type": "stream",
     "text": [
      "a : [1 2 3]\n",
      "dimension of a : 1\n",
      "b : [4 5 6]\n",
      "dimension of b : 1\n"
     ]
    }
   ],
   "source": [
    "import numpy as np\n",
    "a= np.array([1,2,3])\n",
    "b= np.array([4,5,6])\n",
    "\n",
    "print(\"a : {}\".format(a))\n",
    "print(\"dimension of a :\" , a.ndim)\n",
    "\n",
    "print(\"b : {}\".format(b))\n",
    "print(\"dimension of b :\" , b.ndim)"
   ]
  },
  {
   "cell_type": "code",
   "execution_count": 8,
   "id": "9ed2c3a3",
   "metadata": {},
   "outputs": [
    {
     "name": "stdout",
     "output_type": "stream",
     "text": [
      "c : [1 2 3 4 5 6]\n",
      "dimension of c : 1\n"
     ]
    }
   ],
   "source": [
    "c = np.hstack((a,b))\n",
    "\n",
    "print(\"c : {}\".format(c))\n",
    "print(\"dimension of c :\" , c.ndim)"
   ]
  },
  {
   "cell_type": "code",
   "execution_count": 9,
   "id": "c72e4505",
   "metadata": {},
   "outputs": [
    {
     "name": "stdout",
     "output_type": "stream",
     "text": [
      "d : [[1 2 3]\n",
      " [4 5 6]]\n",
      "dimension of d : 2\n"
     ]
    }
   ],
   "source": [
    "d = np.vstack((a,b))\n",
    "\n",
    "print(\"d : {}\".format(d))\n",
    "print(\"dimension of d :\" , d.ndim)"
   ]
  },
  {
   "cell_type": "code",
   "execution_count": 10,
   "id": "5174bbdb",
   "metadata": {},
   "outputs": [],
   "source": [
    "# hstack join horizontly and Vstack joins vertically"
   ]
  },
  {
   "cell_type": "markdown",
   "id": "7d7661d4",
   "metadata": {},
   "source": [
    "# Concatenation numpy"
   ]
  },
  {
   "cell_type": "code",
   "execution_count": 11,
   "id": "7625c008",
   "metadata": {},
   "outputs": [],
   "source": [
    "# when axis =0 then both concatenationg arrays , should have same no. of columns( think like adding new row)"
   ]
  },
  {
   "cell_type": "code",
   "execution_count": 12,
   "id": "f0876480",
   "metadata": {},
   "outputs": [],
   "source": [
    "# when axis =1 then both concatenationg arrays , should have same no. of rows( think like adding new column)"
   ]
  },
  {
   "cell_type": "code",
   "execution_count": 13,
   "id": "6758a990",
   "metadata": {},
   "outputs": [
    {
     "name": "stdout",
     "output_type": "stream",
     "text": [
      "[[1 2]\n",
      " [4 5]]\n",
      "(2, 2)\n"
     ]
    }
   ],
   "source": [
    "a = [[1,2], [4,5]]\n",
    "A= np.array(a)\n",
    "print(A)\n",
    "print(A.shape)"
   ]
  },
  {
   "cell_type": "code",
   "execution_count": 14,
   "id": "b30cfbd5",
   "metadata": {},
   "outputs": [
    {
     "name": "stdout",
     "output_type": "stream",
     "text": [
      "[[9 7]]\n",
      "(1, 2)\n"
     ]
    }
   ],
   "source": [
    "b = [[9,7]]\n",
    "B= np.array(b)\n",
    "print(B)\n",
    "print(B.shape)"
   ]
  },
  {
   "cell_type": "code",
   "execution_count": 15,
   "id": "8d5fd601",
   "metadata": {},
   "outputs": [],
   "source": [
    "#LETS CONCATENATE A & B"
   ]
  },
  {
   "cell_type": "code",
   "execution_count": 17,
   "id": "250d6b55",
   "metadata": {},
   "outputs": [
    {
     "name": "stdout",
     "output_type": "stream",
     "text": [
      "[[1 2]\n",
      " [4 5]\n",
      " [9 7]]\n",
      "(3, 2)\n"
     ]
    }
   ],
   "source": [
    "C = np.concatenate((A,B), axis =0 )\n",
    "print(C)\n",
    "print(C.shape)"
   ]
  },
  {
   "cell_type": "code",
   "execution_count": 18,
   "id": "4672b382",
   "metadata": {},
   "outputs": [],
   "source": [
    "# when same no. of columns we have to use axis =0"
   ]
  },
  {
   "cell_type": "code",
   "execution_count": 19,
   "id": "d4e466ab",
   "metadata": {},
   "outputs": [],
   "source": [
    "# when we try to add two arrays with diff rows and axis=1 we will get error\n",
    "# when we try to add two arrays with diff columns and axis=0 we will get error"
   ]
  },
  {
   "cell_type": "markdown",
   "id": "01eea8b8",
   "metadata": {},
   "source": [
    "# searching in numpy"
   ]
  },
  {
   "cell_type": "markdown",
   "id": "d0ecae2b",
   "metadata": {},
   "source": [
    "# np.where()"
   ]
  },
  {
   "cell_type": "code",
   "execution_count": 21,
   "id": "7a399503",
   "metadata": {},
   "outputs": [],
   "source": [
    "# syntax  np.where(condition,array,replacement)"
   ]
  },
  {
   "cell_type": "code",
   "execution_count": 23,
   "id": "133f8fd1",
   "metadata": {},
   "outputs": [
    {
     "name": "stdout",
     "output_type": "stream",
     "text": [
      "[1 2 3 4 5 6 6]\n"
     ]
    }
   ],
   "source": [
    "a=[1,2,3,4,5,6,6]\n",
    "A= np.array(a)\n",
    "print(A)"
   ]
  },
  {
   "cell_type": "markdown",
   "id": "98fcae48",
   "metadata": {},
   "source": [
    "# task1  replace all odd nos with -1"
   ]
  },
  {
   "cell_type": "code",
   "execution_count": 24,
   "id": "852f008f",
   "metadata": {},
   "outputs": [
    {
     "name": "stdout",
     "output_type": "stream",
     "text": [
      "[-1  2 -1  4 -1  6  6]\n"
     ]
    }
   ],
   "source": [
    "B= np.where( A % 2 ==0 , A ,-1)\n",
    "print(B)"
   ]
  },
  {
   "cell_type": "markdown",
   "id": "d2607a46",
   "metadata": {},
   "source": [
    "# task 2 replace all the nos less than 0 with 45"
   ]
  },
  {
   "cell_type": "code",
   "execution_count": 26,
   "id": "2552c655",
   "metadata": {},
   "outputs": [
    {
     "name": "stdout",
     "output_type": "stream",
     "text": [
      "[ 1 -2 40 23 45 -4 -5  0 -2 -4 -9]\n"
     ]
    }
   ],
   "source": [
    "c=[--1,-2,40,23,45,-4,-5,0,-2,-4,-9]\n",
    "C= np.array(c)\n",
    "print(C)"
   ]
  },
  {
   "cell_type": "code",
   "execution_count": 29,
   "id": "7b7959f6",
   "metadata": {},
   "outputs": [
    {
     "name": "stdout",
     "output_type": "stream",
     "text": [
      "[ 1 45 40 23 45 45 45 45 45 45 45]\n"
     ]
    }
   ],
   "source": [
    "D = np.where( C>0, C, 45)\n",
    "print(D)"
   ]
  },
  {
   "cell_type": "code",
   "execution_count": null,
   "id": "74f93c1a",
   "metadata": {},
   "outputs": [],
   "source": []
  }
 ],
 "metadata": {
  "kernelspec": {
   "display_name": "Python 3 (ipykernel)",
   "language": "python",
   "name": "python3"
  },
  "language_info": {
   "codemirror_mode": {
    "name": "ipython",
    "version": 3
   },
   "file_extension": ".py",
   "mimetype": "text/x-python",
   "name": "python",
   "nbconvert_exporter": "python",
   "pygments_lexer": "ipython3",
   "version": "3.9.12"
  }
 },
 "nbformat": 4,
 "nbformat_minor": 5
}
