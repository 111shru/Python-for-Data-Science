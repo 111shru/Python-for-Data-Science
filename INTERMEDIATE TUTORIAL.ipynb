{
 "cells": [
  {
   "cell_type": "markdown",
   "id": "dc4f65e3",
   "metadata": {},
   "source": [
    "# INTERMEDIATE TUTORIAL"
   ]
  },
  {
   "cell_type": "markdown",
   "id": "26894ed5",
   "metadata": {},
   "source": [
    "#  Q.1 Remove Duplicates"
   ]
  },
  {
   "cell_type": "code",
   "execution_count": 2,
   "id": "ffc9d709",
   "metadata": {},
   "outputs": [],
   "source": [
    "list1=[1,2,3,4,4]"
   ]
  },
  {
   "cell_type": "code",
   "execution_count": 3,
   "id": "770c9041",
   "metadata": {},
   "outputs": [],
   "source": [
    "#method 1 - by using for loop"
   ]
  },
  {
   "cell_type": "code",
   "execution_count": 19,
   "id": "e94217f7",
   "metadata": {},
   "outputs": [
    {
     "name": "stdout",
     "output_type": "stream",
     "text": [
      "[1, 2, 3, 4]\n"
     ]
    }
   ],
   "source": [
    "ans = []\n",
    "for i in list1:\n",
    "    if i not in ans:\n",
    "     ans.append(i)\n",
    "print(ans)"
   ]
  },
  {
   "cell_type": "code",
   "execution_count": 11,
   "id": "32c95d3f",
   "metadata": {},
   "outputs": [],
   "source": [
    "#method 2 using list coomprehension"
   ]
  },
  {
   "cell_type": "code",
   "execution_count": 20,
   "id": "08bbf58f",
   "metadata": {},
   "outputs": [
    {
     "name": "stdout",
     "output_type": "stream",
     "text": [
      "[1, 2, 3, 4]\n"
     ]
    }
   ],
   "source": [
    "ans= []\n",
    "[ans.append(i) for i in list1 if i not in ans]\n",
    "print(ans)"
   ]
  },
  {
   "cell_type": "code",
   "execution_count": 14,
   "id": "6e9281ce",
   "metadata": {},
   "outputs": [],
   "source": [
    "#method3  converting list to set this will auto elimate the duplicates"
   ]
  },
  {
   "cell_type": "code",
   "execution_count": 21,
   "id": "eb3da1a4",
   "metadata": {},
   "outputs": [
    {
     "name": "stdout",
     "output_type": "stream",
     "text": [
      "{1, 2, 3, 4}\n"
     ]
    }
   ],
   "source": [
    "print(set(list1))"
   ]
  },
  {
   "cell_type": "code",
   "execution_count": null,
   "id": "8004c572",
   "metadata": {},
   "outputs": [],
   "source": [
    "#here in set the order of elements will not be maintained"
   ]
  },
  {
   "cell_type": "code",
   "execution_count": 6,
   "id": "b1d516c8",
   "metadata": {},
   "outputs": [
    {
     "name": "stdout",
     "output_type": "stream",
     "text": [
      "{1, 2, 3, 4}\n"
     ]
    }
   ],
   "source": [
    "print(set(list1))"
   ]
  },
  {
   "cell_type": "code",
   "execution_count": null,
   "id": "fb60a009",
   "metadata": {},
   "outputs": [],
   "source": [
    "#but we want list without duplicates"
   ]
  },
  {
   "cell_type": "code",
   "execution_count": 5,
   "id": "2a80aab5",
   "metadata": {},
   "outputs": [
    {
     "name": "stdout",
     "output_type": "stream",
     "text": [
      "[1, 2, 3, 4]\n"
     ]
    }
   ],
   "source": [
    "print(list(set(list1)))"
   ]
  },
  {
   "cell_type": "markdown",
   "id": "94e90552",
   "metadata": {},
   "source": [
    "# Q.2  Finding freq. of given i/p element"
   ]
  },
  {
   "cell_type": "code",
   "execution_count": 7,
   "id": "48151ca6",
   "metadata": {},
   "outputs": [],
   "source": [
    "l=['element1' ,'element2' , 'element3', 'element4']"
   ]
  },
  {
   "cell_type": "code",
   "execution_count": 25,
   "id": "eb2d184e",
   "metadata": {},
   "outputs": [
    {
     "data": {
      "text/plain": [
       "[' element1', 'element2', 'element3', 'element4']"
      ]
     },
     "execution_count": 25,
     "metadata": {},
     "output_type": "execute_result"
    }
   ],
   "source": [
    "l"
   ]
  },
  {
   "cell_type": "code",
   "execution_count": 9,
   "id": "f1132399",
   "metadata": {},
   "outputs": [],
   "source": [
    "#defining a function find occurrence"
   ]
  },
  {
   "cell_type": "code",
   "execution_count": 23,
   "id": "afb396ea",
   "metadata": {},
   "outputs": [],
   "source": [
    "def findOcurrance (l,x):\n",
    "    a = 0\n",
    "    for element in l:\n",
    "        if x == element:\n",
    "              a += 1\n",
    "        return a"
   ]
  },
  {
   "cell_type": "code",
   "execution_count": 26,
   "id": "9c841f99",
   "metadata": {},
   "outputs": [
    {
     "data": {
      "text/plain": [
       "0"
      ]
     },
     "execution_count": 26,
     "metadata": {},
     "output_type": "execute_result"
    }
   ],
   "source": [
    "findOcurrance(l,'element1')"
   ]
  },
  {
   "cell_type": "code",
   "execution_count": 21,
   "id": "ebda7b18",
   "metadata": {},
   "outputs": [
    {
     "data": {
      "text/plain": [
       "0"
      ]
     },
     "execution_count": 21,
     "metadata": {},
     "output_type": "execute_result"
    }
   ],
   "source": [
    "findOcurrance(l,\"element3\")"
   ]
  },
  {
   "cell_type": "code",
   "execution_count": 27,
   "id": "71692b93",
   "metadata": {},
   "outputs": [],
   "source": [
    "list2=['abc','def', 'mno', 'abc','pqr', 'abc','mno']"
   ]
  },
  {
   "cell_type": "code",
   "execution_count": 28,
   "id": "640b1ffe",
   "metadata": {},
   "outputs": [
    {
     "data": {
      "text/plain": [
       "['abc', 'def', 'mno', 'abc', 'pqr', 'abc', 'mno']"
      ]
     },
     "execution_count": 28,
     "metadata": {},
     "output_type": "execute_result"
    }
   ],
   "source": [
    "list2"
   ]
  },
  {
   "cell_type": "code",
   "execution_count": 32,
   "id": "2d3ef6be",
   "metadata": {},
   "outputs": [],
   "source": [
    "def rep_element(list2,x):\n",
    "    ans = 0\n",
    "    for element in list2:\n",
    "        if x == element:\n",
    "            ans += 1\n",
    "            return ans\n",
    "    "
   ]
  },
  {
   "cell_type": "code",
   "execution_count": 33,
   "id": "71c3e02d",
   "metadata": {},
   "outputs": [
    {
     "data": {
      "text/plain": [
       "1"
      ]
     },
     "execution_count": 33,
     "metadata": {},
     "output_type": "execute_result"
    }
   ],
   "source": [
    "rep_element(list2,'abc')"
   ]
  },
  {
   "cell_type": "code",
   "execution_count": 34,
   "id": "6f304198",
   "metadata": {},
   "outputs": [
    {
     "data": {
      "text/plain": [
       "1"
      ]
     },
     "execution_count": 34,
     "metadata": {},
     "output_type": "execute_result"
    }
   ],
   "source": [
    "rep_element(list2,'mno')"
   ]
  },
  {
   "cell_type": "code",
   "execution_count": 35,
   "id": "87b97e79",
   "metadata": {},
   "outputs": [],
   "source": [
    "# here not geeting correct o/p ????- doubt"
   ]
  },
  {
   "cell_type": "markdown",
   "id": "fe911ed8",
   "metadata": {},
   "source": [
    "# Q.3 Factorial of a number"
   ]
  },
  {
   "cell_type": "code",
   "execution_count": 37,
   "id": "8551933d",
   "metadata": {},
   "outputs": [],
   "source": [
    "# 5! = 5x4x3x2x1= 120  (factorial of 5)"
   ]
  },
  {
   "cell_type": "code",
   "execution_count": 49,
   "id": "a0e5dfea",
   "metadata": {},
   "outputs": [],
   "source": [
    "def fact(n):\n",
    "    f= 1\n",
    "    for i in range(1,n+1):\n",
    "        f *=i\n",
    "    return f"
   ]
  },
  {
   "cell_type": "code",
   "execution_count": 50,
   "id": "6a2108d4",
   "metadata": {},
   "outputs": [
    {
     "data": {
      "text/plain": [
       "120"
      ]
     },
     "execution_count": 50,
     "metadata": {},
     "output_type": "execute_result"
    }
   ],
   "source": [
    "fact(5)"
   ]
  },
  {
   "cell_type": "code",
   "execution_count": 51,
   "id": "4b3d5ffc",
   "metadata": {},
   "outputs": [
    {
     "data": {
      "text/plain": [
       "5040"
      ]
     },
     "execution_count": 51,
     "metadata": {},
     "output_type": "execute_result"
    }
   ],
   "source": [
    "fact(7)"
   ]
  },
  {
   "cell_type": "code",
   "execution_count": 52,
   "id": "cb2ce147",
   "metadata": {},
   "outputs": [
    {
     "data": {
      "text/plain": [
       "6"
      ]
     },
     "execution_count": 52,
     "metadata": {},
     "output_type": "execute_result"
    }
   ],
   "source": [
    "fact(3)"
   ]
  },
  {
   "cell_type": "markdown",
   "id": "9b498ed6",
   "metadata": {},
   "source": [
    "# Q.4 Find Sum of Digits"
   ]
  },
  {
   "cell_type": "code",
   "execution_count": 65,
   "id": "da05521a",
   "metadata": {},
   "outputs": [],
   "source": [
    "# modulus operator "
   ]
  },
  {
   "cell_type": "code",
   "execution_count": 66,
   "id": "0f368820",
   "metadata": {},
   "outputs": [
    {
     "data": {
      "text/plain": [
       "5"
      ]
     },
     "execution_count": 66,
     "metadata": {},
     "output_type": "execute_result"
    }
   ],
   "source": [
    "12345 % 10"
   ]
  },
  {
   "cell_type": "code",
   "execution_count": 67,
   "id": "f8977486",
   "metadata": {},
   "outputs": [
    {
     "data": {
      "text/plain": [
       "1234"
      ]
     },
     "execution_count": 67,
     "metadata": {},
     "output_type": "execute_result"
    }
   ],
   "source": [
    "12345 // 10   # for removing last integar use double division operation"
   ]
  },
  {
   "cell_type": "code",
   "execution_count": 61,
   "id": "7a240a3c",
   "metadata": {},
   "outputs": [],
   "source": [
    "def sumofdigits(n):\n",
    "    sum = 0\n",
    "    while (n>0):\n",
    "        digit = n%10     # extracting digit from number n\n",
    "        sum += digit\n",
    "        n = n //10    #reducing the number by removing last digit\n",
    "    return sum"
   ]
  },
  {
   "cell_type": "code",
   "execution_count": 64,
   "id": "5e37137a",
   "metadata": {},
   "outputs": [
    {
     "data": {
      "text/plain": [
       "2"
      ]
     },
     "execution_count": 64,
     "metadata": {},
     "output_type": "execute_result"
    }
   ],
   "source": [
    "sumofdigits(101)"
   ]
  },
  {
   "cell_type": "code",
   "execution_count": 62,
   "id": "57278d31",
   "metadata": {},
   "outputs": [
    {
     "data": {
      "text/plain": [
       "15"
      ]
     },
     "execution_count": 62,
     "metadata": {},
     "output_type": "execute_result"
    }
   ],
   "source": [
    "sumofdigits(12345)"
   ]
  },
  {
   "cell_type": "code",
   "execution_count": 63,
   "id": "d293ef04",
   "metadata": {},
   "outputs": [
    {
     "data": {
      "text/plain": [
       "6"
      ]
     },
     "execution_count": 63,
     "metadata": {},
     "output_type": "execute_result"
    }
   ],
   "source": [
    "sumofdigits(123)"
   ]
  },
  {
   "cell_type": "markdown",
   "id": "aa70eddb",
   "metadata": {},
   "source": [
    "# Q.5 Reverse a string"
   ]
  },
  {
   "cell_type": "code",
   "execution_count": 68,
   "id": "487d1d4d",
   "metadata": {},
   "outputs": [],
   "source": [
    "# here we use slicing operator  syntax   [start : end : increment/decrement]"
   ]
  },
  {
   "cell_type": "code",
   "execution_count": 69,
   "id": "7dcff37f",
   "metadata": {},
   "outputs": [],
   "source": [
    "s= 'python'"
   ]
  },
  {
   "cell_type": "code",
   "execution_count": 70,
   "id": "f90ace2e",
   "metadata": {},
   "outputs": [
    {
     "name": "stdout",
     "output_type": "stream",
     "text": [
      "nohtyp\n"
     ]
    }
   ],
   "source": [
    "print(s[::-1])"
   ]
  },
  {
   "cell_type": "code",
   "execution_count": 71,
   "id": "a746583e",
   "metadata": {},
   "outputs": [
    {
     "name": "stdout",
     "output_type": "stream",
     "text": [
      "isiht\n"
     ]
    }
   ],
   "source": [
    "s1='thisisreversed'\n",
    "print(s1[4::-1])"
   ]
  },
  {
   "cell_type": "code",
   "execution_count": 72,
   "id": "091ea747",
   "metadata": {},
   "outputs": [],
   "source": [
    "# using function for reversing string"
   ]
  },
  {
   "cell_type": "code",
   "execution_count": 73,
   "id": "5d5eb958",
   "metadata": {},
   "outputs": [],
   "source": [
    "def rev_string(s):\n",
    "    return s[::-1]"
   ]
  },
  {
   "cell_type": "code",
   "execution_count": 74,
   "id": "9137c688",
   "metadata": {},
   "outputs": [
    {
     "data": {
      "text/plain": [
       "'desreversisiht'"
      ]
     },
     "execution_count": 74,
     "metadata": {},
     "output_type": "execute_result"
    }
   ],
   "source": [
    "rev_string(s1)"
   ]
  },
  {
   "cell_type": "code",
   "execution_count": 75,
   "id": "06d42aac",
   "metadata": {},
   "outputs": [],
   "source": [
    "s2= \"this is reverse string\""
   ]
  },
  {
   "cell_type": "code",
   "execution_count": 76,
   "id": "2c3a2534",
   "metadata": {},
   "outputs": [
    {
     "data": {
      "text/plain": [
       "'gnirts esrever si siht'"
      ]
     },
     "execution_count": 76,
     "metadata": {},
     "output_type": "execute_result"
    }
   ],
   "source": [
    "rev_string(s2)"
   ]
  },
  {
   "cell_type": "markdown",
   "id": "cb373a69",
   "metadata": {},
   "source": [
    "# Q.6 For a given coefficients a, b,c for a quadratic equation ax**2+ bx +c =0 , find how many solutions are possible"
   ]
  },
  {
   "cell_type": "code",
   "execution_count": 78,
   "id": "886f7798",
   "metadata": {},
   "outputs": [],
   "source": [
    "# here we have used power operator **"
   ]
  },
  {
   "cell_type": "code",
   "execution_count": 92,
   "id": "fe271029",
   "metadata": {},
   "outputs": [],
   "source": [
    "def check_roots(a,b,c):\n",
    "    discriminant = (b**2) - (4*a*c)\n",
    "    if discriminant >0:\n",
    "        print(\"Two real roots exists\")\n",
    "    elif discriminant==0:\n",
    "        print(\"repeated roots exists\")\n",
    "    else:\n",
    "        print(\"No real roots exist\")"
   ]
  },
  {
   "cell_type": "code",
   "execution_count": 93,
   "id": "25c96ef4",
   "metadata": {},
   "outputs": [
    {
     "name": "stdout",
     "output_type": "stream",
     "text": [
      "Two real roots exists\n"
     ]
    }
   ],
   "source": [
    "check_roots(10,5,0)"
   ]
  },
  {
   "cell_type": "code",
   "execution_count": 94,
   "id": "c11f37b3",
   "metadata": {},
   "outputs": [
    {
     "name": "stdout",
     "output_type": "stream",
     "text": [
      "No real roots exist\n"
     ]
    }
   ],
   "source": [
    "check_roots(20,6,1)"
   ]
  },
  {
   "cell_type": "code",
   "execution_count": 96,
   "id": "bbfe955d",
   "metadata": {},
   "outputs": [
    {
     "name": "stdout",
     "output_type": "stream",
     "text": [
      "Two real roots exists\n"
     ]
    }
   ],
   "source": [
    "check_roots(6,2,-1)"
   ]
  },
  {
   "cell_type": "code",
   "execution_count": 97,
   "id": "5e1e66d2",
   "metadata": {},
   "outputs": [
    {
     "name": "stdout",
     "output_type": "stream",
     "text": [
      "No real roots exist\n"
     ]
    }
   ],
   "source": [
    "check_roots(6,2,1)"
   ]
  },
  {
   "cell_type": "code",
   "execution_count": 98,
   "id": "e30e7d1c",
   "metadata": {},
   "outputs": [
    {
     "name": "stdout",
     "output_type": "stream",
     "text": [
      "Two real roots exists\n"
     ]
    }
   ],
   "source": [
    "check_roots(-2,4,-1)"
   ]
  },
  {
   "cell_type": "markdown",
   "id": "20029c61",
   "metadata": {},
   "source": [
    "# Q.7 Write a function to create an identity matrix"
   ]
  },
  {
   "cell_type": "code",
   "execution_count": 110,
   "id": "c36b7a90",
   "metadata": {},
   "outputs": [],
   "source": [
    "# identity matrix means when row no. an dcolumn no. is same it shows value 1 otherwisw 0"
   ]
  },
  {
   "cell_type": "code",
   "execution_count": null,
   "id": "86e69785",
   "metadata": {},
   "outputs": [],
   "source": [
    "[\n",
    "[1,0,0]\n",
    "[0,1,0]\n",
    "[0,0,1]\n",
    "]"
   ]
  },
  {
   "cell_type": "code",
   "execution_count": 108,
   "id": "aa9659c3",
   "metadata": {},
   "outputs": [],
   "source": [
    "def identity_matrix(n):\n",
    "    matrix= []\n",
    "    for i in range(n):          # this for loop is for rows\n",
    "        row = []\n",
    "        for j in range(n):           # this for loop is for columns\n",
    "            if i==j:\n",
    "                row.append(1)\n",
    "            else:\n",
    "                row.append(0)\n",
    "        matrix.append(row)\n",
    "    return matrix"
   ]
  },
  {
   "cell_type": "code",
   "execution_count": 109,
   "id": "cf55a722",
   "metadata": {},
   "outputs": [
    {
     "data": {
      "text/plain": [
       "[[1, 0, 0, 0, 0],\n",
       " [0, 1, 0, 0, 0],\n",
       " [0, 0, 1, 0, 0],\n",
       " [0, 0, 0, 1, 0],\n",
       " [0, 0, 0, 0, 1]]"
      ]
     },
     "execution_count": 109,
     "metadata": {},
     "output_type": "execute_result"
    }
   ],
   "source": [
    "identity_matrix(5)"
   ]
  },
  {
   "cell_type": "markdown",
   "id": "048e008d",
   "metadata": {},
   "source": [
    "# Q.8 Remove all occurances of a given character in a string"
   ]
  },
  {
   "cell_type": "code",
   "execution_count": 122,
   "id": "69bcaa4c",
   "metadata": {},
   "outputs": [],
   "source": [
    "def removechar(s1, a):\n",
    "    ans =\" \"\n",
    "    for char in s1:\n",
    "        if char!= a:\n",
    "            ans+=char\n",
    "        return ans"
   ]
  },
  {
   "cell_type": "code",
   "execution_count": 123,
   "id": "e10f720d",
   "metadata": {},
   "outputs": [
    {
     "data": {
      "text/plain": [
       "' t'"
      ]
     },
     "execution_count": 123,
     "metadata": {},
     "output_type": "execute_result"
    }
   ],
   "source": [
    "removechar(\"this is a string \", 'is')"
   ]
  },
  {
   "cell_type": "code",
   "execution_count": 126,
   "id": "c5671d11",
   "metadata": {},
   "outputs": [
    {
     "data": {
      "text/plain": [
       "' a'"
      ]
     },
     "execution_count": 126,
     "metadata": {},
     "output_type": "execute_result"
    }
   ],
   "source": [
    "removechar(\"aabbbbdddhhgg\", 'b')"
   ]
  },
  {
   "cell_type": "code",
   "execution_count": 127,
   "id": "dc5d54d8",
   "metadata": {},
   "outputs": [],
   "source": [
    "#here wrong o/p"
   ]
  },
  {
   "cell_type": "markdown",
   "id": "1f001891",
   "metadata": {},
   "source": [
    "# Q.9 Given the start and end of a range , write a function that returns the absolute difference between sum of even and odd nos."
   ]
  },
  {
   "cell_type": "code",
   "execution_count": 131,
   "id": "6588a1fa",
   "metadata": {},
   "outputs": [],
   "source": [
    "def absdiff_evnodd(start, end):\n",
    "    even = 0\n",
    "    odd = 0\n",
    "    for num in range(start, end+1):\n",
    "        if num %2 ==0:\n",
    "            even += num\n",
    "        else:\n",
    "            odd +=num\n",
    "        diff = even - odd\n",
    "        return diff"
   ]
  },
  {
   "cell_type": "code",
   "execution_count": 137,
   "id": "4b397352",
   "metadata": {},
   "outputs": [
    {
     "data": {
      "text/plain": [
       "-1"
      ]
     },
     "execution_count": 137,
     "metadata": {},
     "output_type": "execute_result"
    }
   ],
   "source": [
    "absdiff_evnodd(1,5)"
   ]
  },
  {
   "cell_type": "code",
   "execution_count": 138,
   "id": "44ff4d46",
   "metadata": {},
   "outputs": [],
   "source": [
    "def absdiff_evnodd(start, end):\n",
    "    even = 0\n",
    "    odd = 0\n",
    "    for num in range(start, end+1):\n",
    "        if num %2 ==0:\n",
    "            even += num\n",
    "        else:\n",
    "            odd +=num\n",
    "        diff = even - odd\n",
    "        return abs(diff)          # here we want absolute value- only positive"
   ]
  },
  {
   "cell_type": "code",
   "execution_count": 139,
   "id": "f8e65d2d",
   "metadata": {},
   "outputs": [
    {
     "data": {
      "text/plain": [
       "1"
      ]
     },
     "execution_count": 139,
     "metadata": {},
     "output_type": "execute_result"
    }
   ],
   "source": [
    "absdiff_evnodd(1,5)"
   ]
  },
  {
   "cell_type": "code",
   "execution_count": 140,
   "id": "9c50fe2e",
   "metadata": {},
   "outputs": [
    {
     "data": {
      "text/plain": [
       "2"
      ]
     },
     "execution_count": 140,
     "metadata": {},
     "output_type": "execute_result"
    }
   ],
   "source": [
    "absdiff_evnodd(2,6)"
   ]
  },
  {
   "cell_type": "code",
   "execution_count": 145,
   "id": "06aa2913",
   "metadata": {},
   "outputs": [],
   "source": [
    "def absdiff_evnodd(start, end):\n",
    "    odd = 0\n",
    "    even = 0\n",
    "    for num in range(start, end+1):\n",
    "        if num %2 ==0:\n",
    "            even += num\n",
    "        else:\n",
    "            odd +=num\n",
    "        return abs(even - odd)          # here we want absolute value- only positive"
   ]
  },
  {
   "cell_type": "code",
   "execution_count": 147,
   "id": "3850a135",
   "metadata": {},
   "outputs": [
    {
     "data": {
      "text/plain": [
       "2"
      ]
     },
     "execution_count": 147,
     "metadata": {},
     "output_type": "execute_result"
    }
   ],
   "source": [
    "absdiff_evnodd(2,6)       # 12-8 = 4 , o/p should be 4"
   ]
  },
  {
   "cell_type": "code",
   "execution_count": 148,
   "id": "6fdb96a4",
   "metadata": {},
   "outputs": [],
   "source": [
    "# here wrong o/p"
   ]
  },
  {
   "cell_type": "code",
   "execution_count": 151,
   "id": "d3269bfc",
   "metadata": {},
   "outputs": [],
   "source": [
    "# (2,6)\n",
    "# 2  4  6\n",
    "# 3 5\n",
    "# odd sum = 3+5 =8\n",
    "# even sum = 2+4+6 =12\n",
    "# diff = 12-8 = 4"
   ]
  },
  {
   "cell_type": "markdown",
   "id": "ff62d00c",
   "metadata": {},
   "source": [
    "# Q.10 Write a function to chk how many times a string appears in another string"
   ]
  },
  {
   "cell_type": "code",
   "execution_count": 3,
   "id": "9e321930",
   "metadata": {},
   "outputs": [],
   "source": [
    "def str_occurances(str1,str2):\n",
    "    ans= 0\n",
    "    n = len(str2)\n",
    "    for i in range(len(str1)):\n",
    "        if str1[i:i+n] == str2:\n",
    "             ans +=i\n",
    "        return ans"
   ]
  },
  {
   "cell_type": "code",
   "execution_count": 4,
   "id": "4efd8b5e",
   "metadata": {},
   "outputs": [
    {
     "data": {
      "text/plain": [
       "0"
      ]
     },
     "execution_count": 4,
     "metadata": {},
     "output_type": "execute_result"
    }
   ],
   "source": [
    "str_occurances(\"pythonrubypython\",\"python\")"
   ]
  },
  {
   "cell_type": "code",
   "execution_count": 156,
   "id": "ae87592c",
   "metadata": {},
   "outputs": [],
   "source": []
  },
  {
   "cell_type": "code",
   "execution_count": null,
   "id": "af4bf620",
   "metadata": {},
   "outputs": [],
   "source": []
  }
 ],
 "metadata": {
  "kernelspec": {
   "display_name": "Python 3 (ipykernel)",
   "language": "python",
   "name": "python3"
  },
  "language_info": {
   "codemirror_mode": {
    "name": "ipython",
    "version": 3
   },
   "file_extension": ".py",
   "mimetype": "text/x-python",
   "name": "python",
   "nbconvert_exporter": "python",
   "pygments_lexer": "ipython3",
   "version": "3.9.12"
  }
 },
 "nbformat": 4,
 "nbformat_minor": 5
}
